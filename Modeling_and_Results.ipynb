{
 "cells": [
  {
   "cell_type": "markdown",
   "metadata": {
    "id": "QPRgYhyI_ATd"
   },
   "source": [
    "# Modeling and Results"
   ]
  },
  {
   "cell_type": "code",
   "execution_count": 1,
   "metadata": {
    "colab": {
     "base_uri": "https://localhost:8080/"
    },
    "id": "035dhhil_ATq",
    "outputId": "9f1ad199-07a1-4c97-bfac-24c67c5ad65c"
   },
   "outputs": [
    {
     "name": "stdout",
     "output_type": "stream",
     "text": [
      "Requirement already satisfied: pycountry_convert in /usr/local/lib/python3.7/dist-packages (0.7.2)\n",
      "Requirement already satisfied: pprintpp>=0.3.0 in /usr/local/lib/python3.7/dist-packages (from pycountry_convert) (0.4.0)\n",
      "Requirement already satisfied: wheel>=0.30.0 in /usr/local/lib/python3.7/dist-packages (from pycountry_convert) (0.36.2)\n",
      "Requirement already satisfied: pytest-cov>=2.5.1 in /usr/local/lib/python3.7/dist-packages (from pycountry_convert) (2.12.0)\n",
      "Requirement already satisfied: pytest>=3.4.0 in /usr/local/lib/python3.7/dist-packages (from pycountry_convert) (3.6.4)\n",
      "Requirement already satisfied: pytest-mock>=1.6.3 in /usr/local/lib/python3.7/dist-packages (from pycountry_convert) (3.6.1)\n",
      "Requirement already satisfied: pycountry>=16.11.27.1 in /usr/local/lib/python3.7/dist-packages (from pycountry_convert) (20.7.3)\n",
      "Requirement already satisfied: repoze.lru>=0.7 in /usr/local/lib/python3.7/dist-packages (from pycountry_convert) (0.7)\n",
      "Requirement already satisfied: coverage[toml]>=5.2.1 in /usr/local/lib/python3.7/dist-packages (from pytest-cov>=2.5.1->pycountry_convert) (5.5)\n",
      "Requirement already satisfied: attrs>=17.4.0 in /usr/local/lib/python3.7/dist-packages (from pytest>=3.4.0->pycountry_convert) (21.2.0)\n",
      "Requirement already satisfied: py>=1.5.0 in /usr/local/lib/python3.7/dist-packages (from pytest>=3.4.0->pycountry_convert) (1.10.0)\n",
      "Requirement already satisfied: six>=1.10.0 in /usr/local/lib/python3.7/dist-packages (from pytest>=3.4.0->pycountry_convert) (1.15.0)\n",
      "Requirement already satisfied: atomicwrites>=1.0 in /usr/local/lib/python3.7/dist-packages (from pytest>=3.4.0->pycountry_convert) (1.4.0)\n",
      "Requirement already satisfied: setuptools in /usr/local/lib/python3.7/dist-packages (from pytest>=3.4.0->pycountry_convert) (56.1.0)\n",
      "Requirement already satisfied: pluggy<0.8,>=0.5 in /usr/local/lib/python3.7/dist-packages (from pytest>=3.4.0->pycountry_convert) (0.7.1)\n",
      "Requirement already satisfied: more-itertools>=4.0.0 in /usr/local/lib/python3.7/dist-packages (from pytest>=3.4.0->pycountry_convert) (8.7.0)\n",
      "Requirement already satisfied: toml; extra == \"toml\" in /usr/local/lib/python3.7/dist-packages (from coverage[toml]>=5.2.1->pytest-cov>=2.5.1->pycountry_convert) (0.10.2)\n"
     ]
    }
   ],
   "source": [
    "!pip install pycountry_convert\n",
    "import pandas as pd\n",
    "import numpy as np\n",
    "import matplotlib.pyplot as plt\n",
    "import seaborn as sns\n",
    "import pycountry_convert as pc\n",
    "from sklearn.linear_model import Lasso, LassoCV, RidgeCV\n",
    "from sklearn.preprocessing import StandardScaler\n",
    "from sklearn.decomposition import PCA\n",
    "from sklearn.metrics import mean_absolute_error\n",
    "from sklearn.model_selection import train_test_split\n",
    "from textwrap import wrap\n",
    "from sklearn.ensemble import RandomForestRegressor\n",
    "from sklearn.model_selection import cross_val_score, RandomizedSearchCV, KFold, GridSearchCV\n",
    "from xgboost import XGBRegressor\n",
    "from project_utilities import *"
   ]
  },
  {
   "cell_type": "markdown",
   "metadata": {
    "id": "ggZ-tcPJ_ATs"
   },
   "source": [
    "## LASSO"
   ]
  },
  {
   "cell_type": "code",
   "execution_count": 2,
   "metadata": {
    "id": "cimExr_7_ATs"
   },
   "outputs": [],
   "source": [
    "# read in the data\n",
    "fifa_15 = pd.read_csv('data/players_15.csv')\n",
    "fifa_16 = pd.read_csv('data/players_16.csv')\n",
    "fifa_17 = pd.read_csv('data/players_17.csv')\n",
    "fifa_18 = pd.read_csv('data/players_18.csv')\n",
    "fifa_19 = pd.read_csv('data/players_19.csv')\n",
    "fifa_20 = pd.read_csv('data/players_20.csv')\n",
    "fifa_21 = pd.read_csv('data/players_21.csv')\n",
    "\n",
    "player_lookup_map = {game_id: name for (game_id, name) in zip(fifa_15.sofifa_id, fifa_15.long_name)}"
   ]
  },
  {
   "cell_type": "code",
   "execution_count": 3,
   "metadata": {
    "id": "RH_yOE58d0ZX"
   },
   "outputs": [],
   "source": [
    "# a key problem faced is that with a 6 year gap, a lot of the players are not still around\n",
    "# with 16k players in 2015, only 5700 of those are still around in 2021\n",
    "# this limits the size of training set we have available on a 6 year horizon"
   ]
  },
  {
   "cell_type": "code",
   "execution_count": 4,
   "metadata": {
    "id": "YHjjMihGd0ZY"
   },
   "outputs": [],
   "source": [
    "# focus just on 2015-2021 for now\n",
    "\n",
    "# fit a regression model on the 2015 data excluding the 2015 value to predict the relative percent difference in value\n",
    "# use MAE as the performance metric\n",
    "\n",
    "# 4923 observations\n",
    "x_scaled_15_21, y_15_21, col_names = horizon_data_prep(fifa_15, fifa_21, False)\n",
    "# train test split 80/20\n",
    "X_train, X_test, y_train, y_test = train_test_split(x_scaled_15_21, y_15_21, test_size=0.2, random_state=42)"
   ]
  },
  {
   "cell_type": "code",
   "execution_count": 5,
   "metadata": {
    "id": "08f02Xhkd0ZY"
   },
   "outputs": [],
   "source": [
    "lasso_6 = LassoCV(max_iter = 10000, random_state = 42).fit(X_train.drop(['sofifa_id'], axis = 1), y_train)\n"
   ]
  },
  {
   "cell_type": "code",
   "execution_count": 6,
   "metadata": {
    "colab": {
     "base_uri": "https://localhost:8080/"
    },
    "id": "0pbawK-Td0ZZ",
    "outputId": "c5b64608-811c-4b7b-e818-4106eeebf1d0"
   },
   "outputs": [
    {
     "data": {
      "text/plain": [
       "0.17460898314910234"
      ]
     },
     "execution_count": 6,
     "metadata": {
      "tags": []
     },
     "output_type": "execute_result"
    }
   ],
   "source": [
    "# training R^2 is only 19% - pretty bad (could be because of 6 year horizon)\n",
    "lasso_6.score(X_train.drop(['sofifa_id'], axis = 1), y_train)"
   ]
  },
  {
   "cell_type": "code",
   "execution_count": 7,
   "metadata": {
    "colab": {
     "base_uri": "https://localhost:8080/"
    },
    "id": "I81ib55Sd0ZZ",
    "outputId": "2f0197ed-9f54-42d1-f63c-50e6e73d2517"
   },
   "outputs": [
    {
     "name": "stdout",
     "output_type": "stream",
     "text": [
      "The optimal alpha value is: 0.14194870533037712\n",
      "There are 40 predictors after LASSO\n"
     ]
    }
   ],
   "source": [
    "print(\"The optimal alpha value is: {}\".format(lasso_6.alpha_))\n",
    "print(\"There are {} predictors after LASSO\".format(sum(np.around(lasso_6.coef_, 2) != 0)))\n",
    "top_10_coef_idx = np.argsort([abs(i) for i in lasso_6.coef_])[-10:]"
   ]
  },
  {
   "cell_type": "code",
   "execution_count": 8,
   "metadata": {
    "colab": {
     "base_uri": "https://localhost:8080/"
    },
    "id": "E11gdP8Cd0Za",
    "outputId": "c50e1791-385d-487c-f7ea-a655c583fc6b"
   },
   "outputs": [
    {
     "name": "stdout",
     "output_type": "stream",
     "text": [
      "average player value percent change: 9.09\n",
      "LASSO Training MAE: 12.03\n"
     ]
    }
   ],
   "source": [
    "# predict on test set\n",
    "preds = lasso_6.predict(X_test.drop(['sofifa_id'], axis = 1))\n",
    "lasso_training_mae = mean_absolute_error(y_test, preds)\n",
    "print(\"average player value percent change: {}\".format(round(np.mean(y_15_21), 2)))\n",
    "print(\"LASSO Training MAE: {}\".format(round(lasso_training_mae, 2)))"
   ]
  },
  {
   "cell_type": "code",
   "execution_count": 9,
   "metadata": {
    "colab": {
     "base_uri": "https://localhost:8080/"
    },
    "id": "4u3wD81Ld0Za",
    "outputId": "20f05137-133a-416c-8dbe-e6958769ec70"
   },
   "outputs": [
    {
     "name": "stdout",
     "output_type": "stream",
     "text": [
      "predicted top 10 highest growth players 2015-2021\n"
     ]
    },
    {
     "data": {
      "text/plain": [
       "{'Aaron Collins',\n",
       " 'Andy Cannon',\n",
       " 'David Philani Moyo',\n",
       " 'Dominic Calvert-Lewin',\n",
       " 'Jens Jakob Thomasen',\n",
       " 'Justen Glad',\n",
       " 'Marco Komenda',\n",
       " 'Matthew Palmer',\n",
       " 'Maximilian Reinthaler',\n",
       " 'Sebastiano Luperto'}"
      ]
     },
     "execution_count": 9,
     "metadata": {
      "tags": []
     },
     "output_type": "execute_result"
    }
   ],
   "source": [
    "# top potential players in test set predicted\n",
    "top_10_preds = np.argsort(preds)[::-1][:10]\n",
    "\n",
    "top_10_ids = X_test.iloc[top_10_preds, :]['sofifa_id'].values\n",
    "print('predicted top 10 highest growth players 2015-2021')\n",
    "pred_best = set([player_lookup_map[i] for i in top_10_ids])\n",
    "pred_best"
   ]
  },
  {
   "cell_type": "code",
   "execution_count": 10,
   "metadata": {
    "id": "AsPsgrhMd0Zb"
   },
   "outputs": [],
   "source": [
    "# top 10 actual highest potential players"
   ]
  },
  {
   "cell_type": "code",
   "execution_count": 11,
   "metadata": {
    "colab": {
     "base_uri": "https://localhost:8080/"
    },
    "id": "VP2kVHsid0Zc",
    "outputId": "e37b1887-e9bf-4cd0-e86b-ca4a6917b57a"
   },
   "outputs": [
    {
     "name": "stdout",
     "output_type": "stream",
     "text": [
      "Actual top 10 highest growth players 2015-2021\n"
     ]
    },
    {
     "data": {
      "text/plain": [
       "{'Bamidele Alli',\n",
       " 'Clément Nicolas Laurent Lenglet',\n",
       " 'Dominic Calvert-Lewin',\n",
       " 'Joseph Gomez',\n",
       " 'Konrad Laimer',\n",
       " 'Leroy Sané',\n",
       " 'Luis Jesús Rioja González',\n",
       " 'Nico Elvedi',\n",
       " 'Philipp Max',\n",
       " 'Renato Steffen'}"
      ]
     },
     "execution_count": 11,
     "metadata": {
      "tags": []
     },
     "output_type": "execute_result"
    }
   ],
   "source": [
    "top_10_actual = np.argsort(y_test)[::-1][:10]\n",
    "\n",
    "top_10_ids = X_test.iloc[top_10_actual, :]['sofifa_id'].values\n",
    "print('Actual top 10 highest growth players 2015-2021')\n",
    "actual_best = set([player_lookup_map[i] for i in top_10_ids])\n",
    "actual_best"
   ]
  },
  {
   "cell_type": "code",
   "execution_count": 12,
   "metadata": {
    "colab": {
     "base_uri": "https://localhost:8080/"
    },
    "id": "oDXGlBQ2d0Zd",
    "outputId": "631ee6be-d5a3-4061-ed45-763ddc54653a"
   },
   "outputs": [
    {
     "data": {
      "text/plain": [
       "1"
      ]
     },
     "execution_count": 12,
     "metadata": {
      "tags": []
     },
     "output_type": "execute_result"
    }
   ],
   "source": [
    "# our model was able to predict 2 out of the 10 highest growth players from 2015 to 2021\n",
    "# with the top 100 highest growth players, the model was able to identify 40% of them on a 6 year horizon\n",
    "len(pred_best.intersection(actual_best))"
   ]
  },
  {
   "cell_type": "markdown",
   "metadata": {
    "id": "jfuBBSFLd0Zd"
   },
   "source": [
    "### predict value change on 1 year horizon"
   ]
  },
  {
   "cell_type": "code",
   "execution_count": 13,
   "metadata": {
    "id": "5WQw9rWmd0Zd"
   },
   "outputs": [],
   "source": [
    "# 4923 observations\n",
    "x_scaled_15_16, y_15_16, col_names = horizon_data_prep(fifa_15, fifa_16, False)\n",
    "# train test split 80/20\n",
    "X_train, X_test, y_train, y_test = train_test_split(x_scaled_15_16, y_15_16, test_size=0.2, random_state=42)"
   ]
  },
  {
   "cell_type": "code",
   "execution_count": 14,
   "metadata": {
    "id": "irpKGiP5d0Zd"
   },
   "outputs": [],
   "source": [
    "lasso_1 = LassoCV(max_iter = 10000, random_state = 42).fit(X_train.drop(['sofifa_id'], axis = 1), y_train)\n"
   ]
  },
  {
   "cell_type": "code",
   "execution_count": 15,
   "metadata": {
    "colab": {
     "base_uri": "https://localhost:8080/"
    },
    "id": "stugp16Md0Ze",
    "outputId": "f0001f6c-8bea-4f88-88e6-59df006a9cc5"
   },
   "outputs": [
    {
     "data": {
      "text/plain": [
       "0.17434667544512017"
      ]
     },
     "execution_count": 15,
     "metadata": {
      "tags": []
     },
     "output_type": "execute_result"
    }
   ],
   "source": [
    "# training R^2 is only 19% - pretty bad (could be because of 6 year horizon)\n",
    "lasso_1.score(X_train.drop(['sofifa_id'], axis = 1), y_train)"
   ]
  },
  {
   "cell_type": "code",
   "execution_count": 16,
   "metadata": {
    "colab": {
     "base_uri": "https://localhost:8080/"
    },
    "id": "hp1lo4_ad0Ze",
    "outputId": "a3b95405-9f33-4ca5-a29f-3094b7514fd9"
   },
   "outputs": [
    {
     "name": "stdout",
     "output_type": "stream",
     "text": [
      "The optimal alpha value is: 0.013677511396553538\n",
      "There are 38 predictors after LASSO\n"
     ]
    }
   ],
   "source": [
    "print(\"The optimal alpha value is: {}\".format(lasso_1.alpha_))\n",
    "print(\"There are {} predictors after LASSO\".format(sum(np.around(lasso_1.coef_, 2) != 0)))\n",
    "top_10_coef_idx = np.argsort([abs(i) for i in lasso_1.coef_])[-10:]"
   ]
  },
  {
   "cell_type": "code",
   "execution_count": 17,
   "metadata": {
    "colab": {
     "base_uri": "https://localhost:8080/"
    },
    "id": "MNL-Ka9yd0Zf",
    "outputId": "1fe2fe02-aef3-4a1e-926d-847d25fb25d2"
   },
   "outputs": [
    {
     "name": "stdout",
     "output_type": "stream",
     "text": [
      "average player value percent change: 9.09\n",
      "LASSO Training MAE: 1.23\n"
     ]
    }
   ],
   "source": [
    "# predict on test set\n",
    "preds = lasso_1.predict(X_test.drop(['sofifa_id'], axis = 1))\n",
    "lasso_training_mae = mean_absolute_error(y_test, preds)\n",
    "print(\"average player value percent change: {}\".format(round(np.mean(y_15_21), 2)))\n",
    "print(\"LASSO Training MAE: {}\".format(round(lasso_training_mae, 2)))"
   ]
  },
  {
   "cell_type": "code",
   "execution_count": 18,
   "metadata": {
    "colab": {
     "base_uri": "https://localhost:8080/"
    },
    "id": "hR3qaLzBd0Zf",
    "outputId": "12843499-357b-4560-e36d-17d66e95d15c"
   },
   "outputs": [
    {
     "name": "stdout",
     "output_type": "stream",
     "text": [
      "predicted top 10 highest growth players 2015-2021\n"
     ]
    }
   ],
   "source": [
    "# top potential players in test set predicted\n",
    "top_10_preds = np.argsort(preds)[::-1][:100]\n",
    "\n",
    "top_10_ids = X_test.iloc[top_10_preds, :]['sofifa_id'].values\n",
    "print('predicted top 10 highest growth players 2015-2021')\n",
    "pred_best = set([player_lookup_map[i] for i in top_10_ids])\n",
    "#pred_best"
   ]
  },
  {
   "cell_type": "code",
   "execution_count": 19,
   "metadata": {
    "id": "0YZgNkDDd0Zg"
   },
   "outputs": [],
   "source": [
    "# top 10 actual highest potential players"
   ]
  },
  {
   "cell_type": "code",
   "execution_count": 20,
   "metadata": {
    "colab": {
     "base_uri": "https://localhost:8080/"
    },
    "id": "4Mua_ocId0Zg",
    "outputId": "e01320f3-3e9a-478e-a31a-e83184e60378"
   },
   "outputs": [
    {
     "name": "stdout",
     "output_type": "stream",
     "text": [
      "Actual top 10 highest growth players 2015-2021\n"
     ]
    }
   ],
   "source": [
    "top_10_actual = np.argsort(y_test)[::-1][:100]\n",
    "\n",
    "top_10_ids = X_test.iloc[top_10_actual, :]['sofifa_id'].values\n",
    "print('Actual top 10 highest growth players 2015-2021')\n",
    "actual_best = set([player_lookup_map[i] for i in top_10_ids])\n",
    "#actual_best"
   ]
  },
  {
   "cell_type": "code",
   "execution_count": 21,
   "metadata": {
    "colab": {
     "base_uri": "https://localhost:8080/"
    },
    "id": "bb1blYj0d0Zh",
    "outputId": "72a53477-ecfd-42a2-cd09-87d34d97c10a"
   },
   "outputs": [
    {
     "name": "stdout",
     "output_type": "stream",
     "text": [
      "Model Percent Correct Identification of top 100 players: 20%\n"
     ]
    }
   ],
   "source": [
    "# our model was able to predict 2 out of the 10 highest growth players from 2015 to 2021\n",
    "# with the top 100 highest growth players, the model was able to identify 26% of the them in the 1 year horizon 2015 to 2016\n",
    "print(\"Model Percent Correct Identification of top 100 players: {}%\".format(len(pred_best.intersection(actual_best))))"
   ]
  },
  {
   "cell_type": "code",
   "execution_count": 22,
   "metadata": {
    "id": "lkOc1A7Yd0Zi"
   },
   "outputs": [],
   "source": [
    "# the 1 year horizon model was only able to pick up on 1 of the actual 10 best high potential players"
   ]
  },
  {
   "cell_type": "markdown",
   "metadata": {
    "id": "vbzh380Nd0Zi"
   },
   "source": [
    "### predict value change on 2 year horizon"
   ]
  },
  {
   "cell_type": "code",
   "execution_count": 23,
   "metadata": {
    "id": "58-fhxy0d0Zi"
   },
   "outputs": [],
   "source": [
    "# 4923 observations\n",
    "x_scaled_15_17, y_15_17, col_names = horizon_data_prep(fifa_15, fifa_17, False)\n",
    "# train test split 80/20\n",
    "X_train, X_test, y_train, y_test = train_test_split(x_scaled_15_17, y_15_17, test_size=0.2, random_state=42)"
   ]
  },
  {
   "cell_type": "code",
   "execution_count": 24,
   "metadata": {
    "id": "i5SDmwLXd0Zi"
   },
   "outputs": [],
   "source": [
    "lasso_2 = LassoCV(max_iter = 10000, random_state = 42).fit(X_train.drop(['sofifa_id'], axis = 1), y_train)\n"
   ]
  },
  {
   "cell_type": "code",
   "execution_count": 25,
   "metadata": {
    "colab": {
     "base_uri": "https://localhost:8080/"
    },
    "id": "REILRqCMd0Zj",
    "outputId": "1e336c68-9af8-43fc-b05f-10e963005fc1"
   },
   "outputs": [
    {
     "data": {
      "text/plain": [
       "0.14677030732114393"
      ]
     },
     "execution_count": 25,
     "metadata": {
      "tags": []
     },
     "output_type": "execute_result"
    }
   ],
   "source": [
    "# training R^2 is only 19% - pretty bad (could be because of 6 year horizon)\n",
    "lasso_2.score(X_train.drop(['sofifa_id'], axis = 1), y_train)"
   ]
  },
  {
   "cell_type": "code",
   "execution_count": 26,
   "metadata": {
    "colab": {
     "base_uri": "https://localhost:8080/"
    },
    "id": "6VuhdHP4d0Zj",
    "outputId": "4592d41a-7b44-49e7-ef4d-4308b663c87b"
   },
   "outputs": [
    {
     "name": "stdout",
     "output_type": "stream",
     "text": [
      "The optimal alpha value is: 0.036173362572732126\n",
      "There are 40 predictors after LASSO\n"
     ]
    }
   ],
   "source": [
    "print(\"The optimal alpha value is: {}\".format(lasso_2.alpha_))\n",
    "print(\"There are {} predictors after LASSO\".format(sum(np.around(lasso_2.coef_, 2) != 0)))\n",
    "top_10_coef_idx = np.argsort([abs(i) for i in lasso_2.coef_])[-10:]"
   ]
  },
  {
   "cell_type": "code",
   "execution_count": 27,
   "metadata": {
    "colab": {
     "base_uri": "https://localhost:8080/"
    },
    "id": "b8P2mKczd0Zk",
    "outputId": "87a71f11-c2dc-42dd-c06a-7d3549a2a219"
   },
   "outputs": [
    {
     "name": "stdout",
     "output_type": "stream",
     "text": [
      "average player value percent change: 9.09\n",
      "LASSO Training MAE: 3.07\n"
     ]
    }
   ],
   "source": [
    "# predict on test set\n",
    "preds = lasso_2.predict(X_test.drop(['sofifa_id'], axis = 1))\n",
    "lasso_training_mae = mean_absolute_error(y_test, preds)\n",
    "print(\"average player value percent change: {}\".format(round(np.mean(y_15_21), 2)))\n",
    "print(\"LASSO Training MAE: {}\".format(round(lasso_training_mae, 2)))"
   ]
  },
  {
   "cell_type": "code",
   "execution_count": 28,
   "metadata": {
    "colab": {
     "base_uri": "https://localhost:8080/"
    },
    "id": "pBH68Duld0Zk",
    "outputId": "7d6935c5-fb6c-4a20-ac32-195333a33e90"
   },
   "outputs": [
    {
     "name": "stdout",
     "output_type": "stream",
     "text": [
      "predicted top 10 highest growth players 2015-2021\n"
     ]
    }
   ],
   "source": [
    "# top potential players in test set predicted\n",
    "top_10_preds = np.argsort(preds)[::-1][:100]\n",
    "\n",
    "top_10_ids = X_test.iloc[top_10_preds, :]['sofifa_id'].values\n",
    "print('predicted top 10 highest growth players 2015-2021')\n",
    "pred_best = set([player_lookup_map[i] for i in top_10_ids])\n",
    "#pred_best"
   ]
  },
  {
   "cell_type": "code",
   "execution_count": 29,
   "metadata": {
    "id": "l4o5GEZLd0Zl"
   },
   "outputs": [],
   "source": [
    "# top 10 actual highest potential players"
   ]
  },
  {
   "cell_type": "code",
   "execution_count": 30,
   "metadata": {
    "colab": {
     "base_uri": "https://localhost:8080/"
    },
    "id": "0w3YbEcOd0Zl",
    "outputId": "1cf18f74-215d-4bc0-d498-eebe4328c558"
   },
   "outputs": [
    {
     "name": "stdout",
     "output_type": "stream",
     "text": [
      "Actual top 10 highest growth players 2015-2021\n"
     ]
    }
   ],
   "source": [
    "top_10_actual = np.argsort(y_test)[::-1][:100]\n",
    "\n",
    "top_10_ids = X_test.iloc[top_10_actual, :]['sofifa_id'].values\n",
    "print('Actual top 10 highest growth players 2015-2021')\n",
    "actual_best = set([player_lookup_map[i] for i in top_10_ids])\n",
    "#actual_best"
   ]
  },
  {
   "cell_type": "code",
   "execution_count": 31,
   "metadata": {
    "colab": {
     "base_uri": "https://localhost:8080/"
    },
    "id": "a46f96N1d0Zm",
    "outputId": "ed59ba9e-d40a-462d-b290-f483c08e9a0f"
   },
   "outputs": [
    {
     "name": "stdout",
     "output_type": "stream",
     "text": [
      "Model Percent Correct Identification of top 100 players: 36%\n"
     ]
    }
   ],
   "source": [
    "# our model was able to predict 2 out of the 10 highest growth players from 2015 to 2021\n",
    "# with the top 100 highest growth players, the model was able to identify 26% of the them in the 1 year horizon 2015 to 2016\n",
    "print(\"Model Percent Correct Identification of top 100 players: {}%\".format(len(pred_best.intersection(actual_best))))"
   ]
  },
  {
   "cell_type": "markdown",
   "metadata": {
    "id": "sBP6Oepgd0Zm"
   },
   "source": [
    "### predict value change on 3 year horizon"
   ]
  },
  {
   "cell_type": "code",
   "execution_count": 32,
   "metadata": {
    "id": "YModqXDqd0Zn"
   },
   "outputs": [],
   "source": [
    "# 4923 observations\n",
    "x_scaled_15_18, y_15_18, col_names = horizon_data_prep(fifa_15, fifa_18, False)\n",
    "# train test split 80/20\n",
    "X_train, X_test, y_train, y_test = train_test_split(x_scaled_15_18, y_15_18, test_size=0.2, random_state=42)"
   ]
  },
  {
   "cell_type": "code",
   "execution_count": 33,
   "metadata": {
    "id": "qmFPNrQFd0Zn"
   },
   "outputs": [],
   "source": [
    "lasso_3 = LassoCV(max_iter = 10000, random_state = 42).fit(X_train.drop(['sofifa_id'], axis = 1), y_train)\n"
   ]
  },
  {
   "cell_type": "code",
   "execution_count": 34,
   "metadata": {
    "colab": {
     "base_uri": "https://localhost:8080/"
    },
    "id": "1vUppx0Sd0Zn",
    "outputId": "1c22dd3d-c5df-45c3-c243-1f5fe9cd5710"
   },
   "outputs": [
    {
     "data": {
      "text/plain": [
       "0.11475873309353435"
      ]
     },
     "execution_count": 34,
     "metadata": {
      "tags": []
     },
     "output_type": "execute_result"
    }
   ],
   "source": [
    "# training R^2 is only 19% - pretty bad (could be because of 6 year horizon)\n",
    "lasso_3.score(X_train.drop(['sofifa_id'], axis = 1), y_train)"
   ]
  },
  {
   "cell_type": "code",
   "execution_count": 35,
   "metadata": {
    "colab": {
     "base_uri": "https://localhost:8080/"
    },
    "id": "fzUy4M9-d0Zn",
    "outputId": "ca1ce032-3f33-4f20-e387-e15d789bf305"
   },
   "outputs": [
    {
     "name": "stdout",
     "output_type": "stream",
     "text": [
      "The optimal alpha value is: 0.11221275106931444\n",
      "There are 31 predictors after LASSO\n"
     ]
    }
   ],
   "source": [
    "print(\"The optimal alpha value is: {}\".format(lasso_3.alpha_))\n",
    "print(\"There are {} predictors after LASSO\".format(sum(np.around(lasso_3.coef_, 2) != 0)))\n",
    "top_10_coef_idx = np.argsort([abs(i) for i in lasso_3.coef_])[-10:]"
   ]
  },
  {
   "cell_type": "code",
   "execution_count": 36,
   "metadata": {
    "colab": {
     "base_uri": "https://localhost:8080/"
    },
    "id": "CIB7cX9cd0Zo",
    "outputId": "2e8f8cb0-11b6-45b4-b0f5-f79eaeb6c002"
   },
   "outputs": [
    {
     "name": "stdout",
     "output_type": "stream",
     "text": [
      "average player value percent change: 9.09\n",
      "LASSO Training MAE: 5.57\n"
     ]
    }
   ],
   "source": [
    "# predict on test set\n",
    "preds = lasso_3.predict(X_test.drop(['sofifa_id'], axis = 1))\n",
    "lasso_training_mae = mean_absolute_error(y_test, preds)\n",
    "print(\"average player value percent change: {}\".format(round(np.mean(y_15_21), 2)))\n",
    "print(\"LASSO Training MAE: {}\".format(round(lasso_training_mae, 2)))"
   ]
  },
  {
   "cell_type": "code",
   "execution_count": 37,
   "metadata": {
    "colab": {
     "base_uri": "https://localhost:8080/"
    },
    "id": "lYl1RJErd0Zo",
    "outputId": "689b892e-d459-4fbf-b35e-935153da519c"
   },
   "outputs": [
    {
     "name": "stdout",
     "output_type": "stream",
     "text": [
      "predicted top 10 highest growth players 2015-2021\n"
     ]
    }
   ],
   "source": [
    "# top potential players in test set predicted\n",
    "top_10_preds = np.argsort(preds)[::-1][:100]\n",
    "\n",
    "top_10_ids = X_test.iloc[top_10_preds, :]['sofifa_id'].values\n",
    "print('predicted top 10 highest growth players 2015-2021')\n",
    "pred_best = set([player_lookup_map[i] for i in top_10_ids])\n",
    "#pred_best"
   ]
  },
  {
   "cell_type": "code",
   "execution_count": 38,
   "metadata": {
    "id": "UaRzDMw3d0Zq"
   },
   "outputs": [],
   "source": [
    "# top 10 actual highest potential players"
   ]
  },
  {
   "cell_type": "code",
   "execution_count": 39,
   "metadata": {
    "colab": {
     "base_uri": "https://localhost:8080/"
    },
    "id": "UC5fyhG5d0Zq",
    "outputId": "41ae5316-c7f2-4ef7-dc73-f2dbd3e8ccd0"
   },
   "outputs": [
    {
     "name": "stdout",
     "output_type": "stream",
     "text": [
      "Actual top 10 highest growth players 2015-2021\n"
     ]
    }
   ],
   "source": [
    "top_10_actual = np.argsort(y_test)[::-1][:100]\n",
    "\n",
    "top_10_ids = X_test.iloc[top_10_actual, :]['sofifa_id'].values\n",
    "print('Actual top 10 highest growth players 2015-2021')\n",
    "actual_best = set([player_lookup_map[i] for i in top_10_ids])\n",
    "#actual_best"
   ]
  },
  {
   "cell_type": "code",
   "execution_count": 40,
   "metadata": {
    "colab": {
     "base_uri": "https://localhost:8080/"
    },
    "id": "aE2_8wgQd0Zr",
    "outputId": "01d10ac1-8e41-4b15-e7a5-795025bb8648"
   },
   "outputs": [
    {
     "name": "stdout",
     "output_type": "stream",
     "text": [
      "Model Percent Correct Identification of top 100 players: 29%\n"
     ]
    }
   ],
   "source": [
    "# our model was able to predict 2 out of the 10 highest growth players from 2015 to 2021\n",
    "# with the top 100 highest growth players, the model was able to identify 26% of the them in the 1 year horizon 2015 to 2016\n",
    "print(\"Model Percent Correct Identification of top 100 players: {}%\".format(len(pred_best.intersection(actual_best))))"
   ]
  },
  {
   "cell_type": "code",
   "execution_count": 40,
   "metadata": {
    "id": "RJeJV6xGd0Zr"
   },
   "outputs": [],
   "source": []
  },
  {
   "cell_type": "markdown",
   "metadata": {
    "id": "4zgo251Ud0Zs"
   },
   "source": [
    "### predict value change on 4 year horizon"
   ]
  },
  {
   "cell_type": "code",
   "execution_count": 41,
   "metadata": {
    "id": "knRY0IVHd0Zs"
   },
   "outputs": [],
   "source": [
    "# 4923 observations\n",
    "x_scaled_15_19, y_15_19, col_names = horizon_data_prep(fifa_15, fifa_19, False)\n",
    "# train test split 80/20\n",
    "X_train, X_test, y_train, y_test = train_test_split(x_scaled_15_19, y_15_19, test_size=0.2, random_state=42)"
   ]
  },
  {
   "cell_type": "code",
   "execution_count": 42,
   "metadata": {
    "id": "r0AIbpEXd0Zs"
   },
   "outputs": [],
   "source": [
    "lasso_4 = LassoCV(max_iter = 10000, random_state = 42).fit(X_train.drop(['sofifa_id'], axis = 1), y_train)\n"
   ]
  },
  {
   "cell_type": "code",
   "execution_count": 43,
   "metadata": {
    "colab": {
     "base_uri": "https://localhost:8080/"
    },
    "id": "KWHbzPk5d0Zt",
    "outputId": "01949927-171d-4875-c0b3-e92dbbd2735f"
   },
   "outputs": [
    {
     "data": {
      "text/plain": [
       "0.12792075130389413"
      ]
     },
     "execution_count": 43,
     "metadata": {
      "tags": []
     },
     "output_type": "execute_result"
    }
   ],
   "source": [
    "# training R^2 is only 19% - pretty bad (could be because of 6 year horizon)\n",
    "lasso_4.score(X_train.drop(['sofifa_id'], axis = 1), y_train)"
   ]
  },
  {
   "cell_type": "code",
   "execution_count": 44,
   "metadata": {
    "colab": {
     "base_uri": "https://localhost:8080/"
    },
    "id": "mnv7JP6fd0Zt",
    "outputId": "7ffde8d7-cf27-4724-b756-f6a0c47baf5c"
   },
   "outputs": [
    {
     "name": "stdout",
     "output_type": "stream",
     "text": [
      "The optimal alpha value is: 0.09643808677983894\n",
      "There are 44 predictors after LASSO\n"
     ]
    }
   ],
   "source": [
    "print(\"The optimal alpha value is: {}\".format(lasso_4.alpha_))\n",
    "print(\"There are {} predictors after LASSO\".format(sum(np.around(lasso_4.coef_, 2) != 0)))\n",
    "top_10_coef_idx = np.argsort([abs(i) for i in lasso_4.coef_])[-10:]"
   ]
  },
  {
   "cell_type": "code",
   "execution_count": 45,
   "metadata": {
    "colab": {
     "base_uri": "https://localhost:8080/"
    },
    "id": "RwFEWD_kd0Zu",
    "outputId": "062cf1bc-4ccc-4f37-c914-8d2613dfad4c"
   },
   "outputs": [
    {
     "name": "stdout",
     "output_type": "stream",
     "text": [
      "average player value percent change: 9.09\n",
      "LASSO Training MAE: 7.27\n"
     ]
    }
   ],
   "source": [
    "# predict on test set\n",
    "preds = lasso_4.predict(X_test.drop(['sofifa_id'], axis = 1))\n",
    "lasso_training_mae = mean_absolute_error(y_test, preds)\n",
    "print(\"average player value percent change: {}\".format(round(np.mean(y_15_21), 2)))\n",
    "print(\"LASSO Training MAE: {}\".format(round(lasso_training_mae, 2)))"
   ]
  },
  {
   "cell_type": "code",
   "execution_count": 46,
   "metadata": {
    "colab": {
     "base_uri": "https://localhost:8080/"
    },
    "id": "Im-O_08Gd0Zv",
    "outputId": "9e204a68-a6df-410e-e091-edbbcac9258f"
   },
   "outputs": [
    {
     "name": "stdout",
     "output_type": "stream",
     "text": [
      "predicted top 10 highest growth players 2015-2021\n"
     ]
    }
   ],
   "source": [
    "# top potential players in test set predicted\n",
    "top_10_preds = np.argsort(preds)[::-1][:100]\n",
    "\n",
    "top_10_ids = X_test.iloc[top_10_preds, :]['sofifa_id'].values\n",
    "print('predicted top 10 highest growth players 2015-2021')\n",
    "pred_best = set([player_lookup_map[i] for i in top_10_ids])\n",
    "#pred_best"
   ]
  },
  {
   "cell_type": "code",
   "execution_count": 47,
   "metadata": {
    "id": "DAxjsrard0Zw"
   },
   "outputs": [],
   "source": [
    "# top 10 actual highest potential players"
   ]
  },
  {
   "cell_type": "code",
   "execution_count": 48,
   "metadata": {
    "colab": {
     "base_uri": "https://localhost:8080/"
    },
    "id": "h0p7vwQsd0Zw",
    "outputId": "ed409101-3a5f-490d-cefc-56cf21e4c58f"
   },
   "outputs": [
    {
     "name": "stdout",
     "output_type": "stream",
     "text": [
      "Actual top 10 highest growth players 2015-2021\n"
     ]
    }
   ],
   "source": [
    "top_10_actual = np.argsort(y_test)[::-1][:100]\n",
    "\n",
    "top_10_ids = X_test.iloc[top_10_actual, :]['sofifa_id'].values\n",
    "print('Actual top 10 highest growth players 2015-2021')\n",
    "actual_best = set([player_lookup_map[i] for i in top_10_ids])\n",
    "#actual_best"
   ]
  },
  {
   "cell_type": "code",
   "execution_count": 49,
   "metadata": {
    "colab": {
     "base_uri": "https://localhost:8080/"
    },
    "id": "OzVub8SCd0Zy",
    "outputId": "46359d60-b19d-48dd-d67f-f16c6c011531"
   },
   "outputs": [
    {
     "name": "stdout",
     "output_type": "stream",
     "text": [
      "Model Percent Correct Identification of top 100 players: 28%\n"
     ]
    }
   ],
   "source": [
    "# our model was able to predict 2 out of the 10 highest growth players from 2015 to 2021\n",
    "# with the top 100 highest growth players, the model was able to identify 26% of the them in the 1 year horizon 2015 to 2016\n",
    "print(\"Model Percent Correct Identification of top 100 players: {}%\".format(len(pred_best.intersection(actual_best))))"
   ]
  },
  {
   "cell_type": "markdown",
   "metadata": {
    "id": "N9HXwx-xd0Zy"
   },
   "source": [
    "### predict value change on 5 year horizon"
   ]
  },
  {
   "cell_type": "code",
   "execution_count": 50,
   "metadata": {
    "id": "EqXVatiud0Zz"
   },
   "outputs": [],
   "source": [
    "# 4923 observations\n",
    "x_scaled_15_20, y_15_20, col_names = horizon_data_prep(fifa_15, fifa_20, False)\n",
    "# train test split 80/20\n",
    "X_train, X_test, y_train, y_test = train_test_split(x_scaled_15_20, y_15_20, test_size=0.2, random_state=42)"
   ]
  },
  {
   "cell_type": "code",
   "execution_count": 51,
   "metadata": {
    "id": "2Stm_9rZd0Zz"
   },
   "outputs": [],
   "source": [
    "lasso_5 = LassoCV(max_iter = 10000, random_state = 42).fit(X_train.drop(['sofifa_id'], axis = 1), y_train)\n"
   ]
  },
  {
   "cell_type": "code",
   "execution_count": 52,
   "metadata": {
    "colab": {
     "base_uri": "https://localhost:8080/"
    },
    "id": "09BAZie8d0Zz",
    "outputId": "619f6626-3c2d-4486-a992-2c59b2499b17"
   },
   "outputs": [
    {
     "data": {
      "text/plain": [
       "0.11453637511902837"
      ]
     },
     "execution_count": 52,
     "metadata": {
      "tags": []
     },
     "output_type": "execute_result"
    }
   ],
   "source": [
    "# training R^2 is only 19% - pretty bad (could be because of 6 year horizon)\n",
    "lasso_5.score(X_train.drop(['sofifa_id'], axis = 1), y_train)"
   ]
  },
  {
   "cell_type": "code",
   "execution_count": 53,
   "metadata": {
    "colab": {
     "base_uri": "https://localhost:8080/"
    },
    "id": "6lzTFHt9d0Z0",
    "outputId": "c8cd1114-eff4-4edf-94d3-194487bb3283"
   },
   "outputs": [
    {
     "name": "stdout",
     "output_type": "stream",
     "text": [
      "The optimal alpha value is: 0.14208043878335547\n",
      "There are 36 predictors after LASSO\n"
     ]
    }
   ],
   "source": [
    "print(\"The optimal alpha value is: {}\".format(lasso_5.alpha_))\n",
    "print(\"There are {} predictors after LASSO\".format(sum(np.around(lasso_5.coef_, 2) != 0)))\n",
    "top_10_coef_idx = np.argsort([abs(i) for i in lasso_5.coef_])[-10:]"
   ]
  },
  {
   "cell_type": "code",
   "execution_count": 54,
   "metadata": {
    "colab": {
     "base_uri": "https://localhost:8080/"
    },
    "id": "31prTHh1d0Z1",
    "outputId": "286e2760-adf5-4792-fc3f-5171495333be"
   },
   "outputs": [
    {
     "name": "stdout",
     "output_type": "stream",
     "text": [
      "average player value percent change: 9.09\n",
      "LASSO Training MAE: 10.38\n"
     ]
    }
   ],
   "source": [
    "# predict on test set\n",
    "preds = lasso_5.predict(X_test.drop(['sofifa_id'], axis = 1))\n",
    "lasso_training_mae = mean_absolute_error(y_test, preds)\n",
    "print(\"average player value percent change: {}\".format(round(np.mean(y_15_21), 2)))\n",
    "print(\"LASSO Training MAE: {}\".format(round(lasso_training_mae, 2)))"
   ]
  },
  {
   "cell_type": "code",
   "execution_count": 55,
   "metadata": {
    "colab": {
     "base_uri": "https://localhost:8080/"
    },
    "id": "MeXQ2x2md0Z1",
    "outputId": "62236dd6-a646-42e5-9253-c484ca6a0750"
   },
   "outputs": [
    {
     "name": "stdout",
     "output_type": "stream",
     "text": [
      "predicted top 10 highest growth players 2015-2021\n"
     ]
    }
   ],
   "source": [
    "# top potential players in test set predicted\n",
    "top_10_preds = np.argsort(preds)[::-1][:100]\n",
    "\n",
    "top_10_ids = X_test.iloc[top_10_preds, :]['sofifa_id'].values\n",
    "print('predicted top 10 highest growth players 2015-2021')\n",
    "pred_best = set([player_lookup_map[i] for i in top_10_ids])\n",
    "#pred_best"
   ]
  },
  {
   "cell_type": "code",
   "execution_count": 56,
   "metadata": {
    "id": "wht3uz9ud0Z3"
   },
   "outputs": [],
   "source": [
    "# top 10 actual highest potential players"
   ]
  },
  {
   "cell_type": "code",
   "execution_count": 57,
   "metadata": {
    "colab": {
     "base_uri": "https://localhost:8080/"
    },
    "id": "Jfx27BpBd0Z3",
    "outputId": "c8ad04d9-23dc-4c3d-80ec-93e55ee84547"
   },
   "outputs": [
    {
     "name": "stdout",
     "output_type": "stream",
     "text": [
      "Actual top 10 highest growth players 2015-2021\n"
     ]
    }
   ],
   "source": [
    "top_10_actual = np.argsort(y_test)[::-1][:100]\n",
    "\n",
    "top_10_ids = X_test.iloc[top_10_actual, :]['sofifa_id'].values\n",
    "print('Actual top 10 highest growth players 2015-2021')\n",
    "actual_best = set([player_lookup_map[i] for i in top_10_ids])\n",
    "#actual_best"
   ]
  },
  {
   "cell_type": "code",
   "execution_count": 58,
   "metadata": {
    "colab": {
     "base_uri": "https://localhost:8080/"
    },
    "id": "h2VNQnmkd0Z4",
    "outputId": "bc6c9162-5e80-4962-fa90-86ec041f2594"
   },
   "outputs": [
    {
     "name": "stdout",
     "output_type": "stream",
     "text": [
      "Model Percent Correct Identification of top 100 players: 36%\n"
     ]
    }
   ],
   "source": [
    "# our model was able to predict 2 out of the 10 highest growth players from 2015 to 2021\n",
    "# with the top 100 highest growth players, the model was able to identify 26% of the them in the 1 year horizon 2015 to 2016\n",
    "print(\"Model Percent Correct Identification of top 100 players: {}%\".format(len(pred_best.intersection(actual_best))))"
   ]
  },
  {
   "cell_type": "code",
   "execution_count": 59,
   "metadata": {
    "colab": {
     "base_uri": "https://localhost:8080/",
     "height": 936
    },
    "id": "xbtJwy_H_AUL",
    "outputId": "6631d154-ae55-4379-dc22-52c9e86d9567"
   },
   "outputs": [
    {
     "name": "stderr",
     "output_type": "stream",
     "text": [
      "/usr/local/lib/python3.7/dist-packages/seaborn/_decorators.py:43: FutureWarning: Pass the following variables as keyword args: x, y. From version 0.12, the only valid positional argument will be `data`, and passing other arguments without an explicit keyword will result in an error or misinterpretation.\n",
      "  FutureWarning\n",
      "/usr/local/lib/python3.7/dist-packages/seaborn/_decorators.py:43: FutureWarning: Pass the following variables as keyword args: x, y. From version 0.12, the only valid positional argument will be `data`, and passing other arguments without an explicit keyword will result in an error or misinterpretation.\n",
      "  FutureWarning\n",
      "/usr/local/lib/python3.7/dist-packages/seaborn/_decorators.py:43: FutureWarning: Pass the following variables as keyword args: x, y. From version 0.12, the only valid positional argument will be `data`, and passing other arguments without an explicit keyword will result in an error or misinterpretation.\n",
      "  FutureWarning\n",
      "/usr/local/lib/python3.7/dist-packages/seaborn/_decorators.py:43: FutureWarning: Pass the following variables as keyword args: x, y. From version 0.12, the only valid positional argument will be `data`, and passing other arguments without an explicit keyword will result in an error or misinterpretation.\n",
      "  FutureWarning\n",
      "/usr/local/lib/python3.7/dist-packages/seaborn/_decorators.py:43: FutureWarning: Pass the following variables as keyword args: x, y. From version 0.12, the only valid positional argument will be `data`, and passing other arguments without an explicit keyword will result in an error or misinterpretation.\n",
      "  FutureWarning\n",
      "/usr/local/lib/python3.7/dist-packages/seaborn/_decorators.py:43: FutureWarning: Pass the following variables as keyword args: x, y. From version 0.12, the only valid positional argument will be `data`, and passing other arguments without an explicit keyword will result in an error or misinterpretation.\n",
      "  FutureWarning\n"
     ]
    },
    {
     "data": {
      "image/png": "[encoded data removed]",
      "text/plain": [
       "<Figure size 1440x1080 with 6 Axes>"
      ]
     },
     "metadata": {
      "needs_background": "light",
      "tags": []
     },
     "output_type": "display_data"
    }
   ],
   "source": [
    "# plot the LASSO coefficients (top 10) for each time horizon\n",
    "x = [x_scaled_15_16, x_scaled_15_17, x_scaled_15_18, x_scaled_15_19, x_scaled_15_20, x_scaled_15_21]\n",
    "y = [y_15_16, y_15_17, y_15_18, y_15_19, y_15_20, y_15_21]\n",
    "\n",
    "horizon_lasso = []\n",
    "horizon_ridge = []\n",
    "horizon_scores = []\n",
    "horizon_models = []\n",
    "for horizon in range(6):\n",
    "    horizon_lasso.append(LassoCV(random_state = 42, max_iter = 10000).fit(x[horizon].drop(['sofifa_id'], axis = 1), y[horizon]))\n",
    "    horizon_ridge.append(RidgeCV().fit(x[horizon].drop(['sofifa_id'], axis = 1), y[horizon]))\n",
    "    \n",
    "plt.rcParams[\"figure.figsize\"] = (20,10)\n",
    "fig, axs = plt.subplots(3, 2, figsize=(20, 15))\n",
    "fig.subplots_adjust(hspace=1)\n",
    "axs = axs.ravel()\n",
    "for i, model in enumerate(horizon_lasso):\n",
    "    plt.setp(axs[i].xaxis.get_majorticklabels(), rotation=45)\n",
    "    axs[i].set_title(f'{i+1} Year Horizon Top Features')\n",
    "    top_10_vars_idx = np.argsort(abs(model.coef_))[::-1][:10]\n",
    "    # plot the top 10 predictors with the largest magnitude coefficient\n",
    "    top_vars = col_names[top_10_vars_idx].values\n",
    "    labels = [ '\\n'.join(wrap(l, 20)) for l in top_vars ]\n",
    "    top_coefs = model.coef_[top_10_vars_idx]\n",
    "    sns.barplot(labels, top_coefs, ax = axs[i])\n",
    "    top_10_coef_idx = np.argsort([abs(i) for i in lasso_5.coef_])[-10:]\n",
    "    top_vars = col_names[top_10_coef_idx]"
   ]
  },
  {
   "cell_type": "code",
   "execution_count": 60,
   "metadata": {
    "id": "GudGm8m3d0Zu"
   },
   "outputs": [],
   "source": [
    "# results arent very interesting. A player with a high overall is likely to experience a drop in value (overrated)\n",
    "# a player with a good interational repuatation, leauge_rank, and potential will likely experience value increase\n",
    "# old players will likely have their value drop in 6 years\n",
    "# moral of the story: 6 years is a long time and if a player is good currently (high overall), they likely won't be a top \n",
    "# star in 6 years"
   ]
  },
  {
   "cell_type": "markdown",
   "metadata": {
    "id": "742jj42tTwud"
   },
   "source": [
    "## Random Forest and XGBoost Hyperparameter Tuning"
   ]
  },
  {
   "cell_type": "markdown",
   "metadata": {
    "id": "eAmwgB9ai2ya"
   },
   "source": [
    "### Random Forest"
   ]
  },
  {
   "cell_type": "code",
   "execution_count": 61,
   "metadata": {
    "id": "5VkKQtSxd0Z5"
   },
   "outputs": [],
   "source": [
    "rf = RandomForestRegressor(random_state = 42, max_depth = 5)\n",
    "param_grid_rf = {'n_estimators': [30, 50, 100, 150, 300]}\n",
    "horizon_rf_models, horizon_rf_scores = get_model_results(rf, param_grid_rf, x, y)"
   ]
  },
  {
   "cell_type": "code",
   "execution_count": 62,
   "metadata": {
    "colab": {
     "base_uri": "https://localhost:8080/",
     "height": 930
    },
    "id": "QB97SsyeNSlm",
    "outputId": "e2027599-ee56-483d-a5ca-003f8daf658f"
   },
   "outputs": [
    {
     "name": "stderr",
     "output_type": "stream",
     "text": [
      "/usr/local/lib/python3.7/dist-packages/seaborn/_decorators.py:43: FutureWarning: Pass the following variables as keyword args: x, y. From version 0.12, the only valid positional argument will be `data`, and passing other arguments without an explicit keyword will result in an error or misinterpretation.\n",
      "  FutureWarning\n",
      "/usr/local/lib/python3.7/dist-packages/seaborn/_decorators.py:43: FutureWarning: Pass the following variables as keyword args: x, y. From version 0.12, the only valid positional argument will be `data`, and passing other arguments without an explicit keyword will result in an error or misinterpretation.\n",
      "  FutureWarning\n",
      "/usr/local/lib/python3.7/dist-packages/seaborn/_decorators.py:43: FutureWarning: Pass the following variables as keyword args: x, y. From version 0.12, the only valid positional argument will be `data`, and passing other arguments without an explicit keyword will result in an error or misinterpretation.\n",
      "  FutureWarning\n",
      "/usr/local/lib/python3.7/dist-packages/seaborn/_decorators.py:43: FutureWarning: Pass the following variables as keyword args: x, y. From version 0.12, the only valid positional argument will be `data`, and passing other arguments without an explicit keyword will result in an error or misinterpretation.\n",
      "  FutureWarning\n",
      "/usr/local/lib/python3.7/dist-packages/seaborn/_decorators.py:43: FutureWarning: Pass the following variables as keyword args: x, y. From version 0.12, the only valid positional argument will be `data`, and passing other arguments without an explicit keyword will result in an error or misinterpretation.\n",
      "  FutureWarning\n",
      "/usr/local/lib/python3.7/dist-packages/seaborn/_decorators.py:43: FutureWarning: Pass the following variables as keyword args: x, y. From version 0.12, the only valid positional argument will be `data`, and passing other arguments without an explicit keyword will result in an error or misinterpretation.\n",
      "  FutureWarning\n"
     ]
    },
    {
     "data": {
      "image/png": "[encoded data removed]",
      "text/plain": [
       "<Figure size 1440x1080 with 6 Axes>"
      ]
     },
     "metadata": {
      "needs_background": "light",
      "tags": []
     },
     "output_type": "display_data"
    }
   ],
   "source": [
    "plt.rcParams[\"figure.figsize\"] = (20,10)\n",
    "fig, axs = plt.subplots(3, 2, figsize=(20, 15))\n",
    "fig.subplots_adjust(hspace=1)\n",
    "axs = axs.ravel()\n",
    "for i, model in enumerate(horizon_rf_models):\n",
    "    plt.setp(axs[i].xaxis.get_majorticklabels(), rotation=45)\n",
    "    axs[i].set_title(f'{i+1} Year Horizon Top Features')\n",
    "    top_10_vars_idx = np.argsort(model.feature_importances_)[::-1][:10]\n",
    "    # plot the top 10 predictors with the largest magnitude coefficient\n",
    "    top_vars = col_names[top_10_vars_idx].values\n",
    "    labels = [ '\\n'.join(wrap(l, 20)) for l in top_vars ]\n",
    "    top_coefs = model.feature_importances_[top_10_vars_idx]\n",
    "    sns.barplot(labels, top_coefs, ax = axs[i])\n"
   ]
  },
  {
   "cell_type": "markdown",
   "metadata": {
    "id": "QSqLbKgGjJgQ"
   },
   "source": [
    "Age is the most important feature for all time horizons, which makes sense as this is a universal factor that affects every player's value. A player past their prime will see their value drop and a player entering their prime physical abilitiy age range will see their value increase."
   ]
  },
  {
   "cell_type": "markdown",
   "metadata": {
    "id": "D7K5mOgQjeA2"
   },
   "source": [
    "### XGBoost"
   ]
  },
  {
   "cell_type": "code",
   "execution_count": 63,
   "metadata": {
    "id": "4bwlnohgjgZ0"
   },
   "outputs": [],
   "source": [
    "xgb = XGBRegressor(random_state = 42, objective = 'reg:squarederror')\n",
    "param_grid_xgb = {'n_estimators': [30, 50, 100, 150, 300], 'learning_rate':[0.05, 0.1, 0.2, 0.3]}\n",
    "horizon_xgb_models, horizon_xgb_scores = get_model_results(xgb, param_grid_xgb, x, y)"
   ]
  },
  {
   "cell_type": "code",
   "execution_count": 64,
   "metadata": {
    "colab": {
     "base_uri": "https://localhost:8080/",
     "height": 931
    },
    "id": "Cco9HAmek5po",
    "outputId": "1fa9e859-28a2-43cb-c6f0-85e7230d6bfa"
   },
   "outputs": [
    {
     "name": "stderr",
     "output_type": "stream",
     "text": [
      "/usr/local/lib/python3.7/dist-packages/seaborn/_decorators.py:43: FutureWarning: Pass the following variables as keyword args: x, y. From version 0.12, the only valid positional argument will be `data`, and passing other arguments without an explicit keyword will result in an error or misinterpretation.\n",
      "  FutureWarning\n",
      "/usr/local/lib/python3.7/dist-packages/seaborn/_decorators.py:43: FutureWarning: Pass the following variables as keyword args: x, y. From version 0.12, the only valid positional argument will be `data`, and passing other arguments without an explicit keyword will result in an error or misinterpretation.\n",
      "  FutureWarning\n",
      "/usr/local/lib/python3.7/dist-packages/seaborn/_decorators.py:43: FutureWarning: Pass the following variables as keyword args: x, y. From version 0.12, the only valid positional argument will be `data`, and passing other arguments without an explicit keyword will result in an error or misinterpretation.\n",
      "  FutureWarning\n",
      "/usr/local/lib/python3.7/dist-packages/seaborn/_decorators.py:43: FutureWarning: Pass the following variables as keyword args: x, y. From version 0.12, the only valid positional argument will be `data`, and passing other arguments without an explicit keyword will result in an error or misinterpretation.\n",
      "  FutureWarning\n",
      "/usr/local/lib/python3.7/dist-packages/seaborn/_decorators.py:43: FutureWarning: Pass the following variables as keyword args: x, y. From version 0.12, the only valid positional argument will be `data`, and passing other arguments without an explicit keyword will result in an error or misinterpretation.\n",
      "  FutureWarning\n",
      "/usr/local/lib/python3.7/dist-packages/seaborn/_decorators.py:43: FutureWarning: Pass the following variables as keyword args: x, y. From version 0.12, the only valid positional argument will be `data`, and passing other arguments without an explicit keyword will result in an error or misinterpretation.\n",
      "  FutureWarning\n"
     ]
    },
    {
     "data": {
      "image/png": "[encoded data removed]",
      "text/plain": [
       "<Figure size 1440x1080 with 6 Axes>"
      ]
     },
     "metadata": {
      "needs_background": "light",
      "tags": []
     },
     "output_type": "display_data"
    }
   ],
   "source": [
    "fig, axs = plt.subplots(3, 2, figsize=(20, 15))\n",
    "fig.subplots_adjust(hspace=1)\n",
    "axs = axs.ravel()\n",
    "for i, model in enumerate(horizon_xgb_models):\n",
    "    plt.setp(axs[i].xaxis.get_majorticklabels(), rotation=45)\n",
    "    axs[i].set_title(f'{i+1} Year Horizon Top Features')\n",
    "    top_10_vars_idx = np.argsort(model.feature_importances_)[::-1][:10]\n",
    "    # plot the top 10 predictors with the largest magnitude coefficient\n",
    "    top_vars = col_names[top_10_vars_idx].values\n",
    "    labels = [ '\\n'.join(wrap(l, 20)) for l in top_vars ]\n",
    "    top_coefs = model.feature_importances_[top_10_vars_idx]\n",
    "    sns.barplot(labels, top_coefs, ax = axs[i])"
   ]
  },
  {
   "cell_type": "markdown",
   "metadata": {},
   "source": [
    "### Random Forest and XGBoost Using PCA Reduced Dimensionality Components"
   ]
  },
  {
   "cell_type": "code",
   "execution_count": 67,
   "metadata": {
    "colab": {
     "base_uri": "https://localhost:8080/",
     "height": 473
    },
    "id": "T9_H7ZJCd0Z7",
    "outputId": "24296e72-7b79-4c7b-ff3b-869e6fcbae20"
   },
   "outputs": [
    {
     "data": {
      "text/plain": [
       "[<matplotlib.lines.Line2D at 0x7f1c5f1a6b10>]"
      ]
     },
     "execution_count": 67,
     "metadata": {
      "tags": []
     },
     "output_type": "execute_result"
    },
    {
     "data": {
      "image/png": "[encoded data removed]",
      "text/plain": [
       "<Figure size 1440x720 with 1 Axes>"
      ]
     },
     "metadata": {
      "needs_background": "light",
      "tags": []
     },
     "output_type": "display_data"
    }
   ],
   "source": [
    "# explained_variance = []\n",
    "# for i in range(len(x_scaled_15_18.columns)):\n",
    "#     pca = PCA(n_components = n)\n",
    "#     explained_variance.append()\n",
    "\n",
    "pca = PCA(8).fit(x_scaled_15_18, y_15_18)\n",
    "plt.plot(np.arange(8), pca.explained_variance_)"
   ]
  },
  {
   "cell_type": "code",
   "execution_count": 68,
   "metadata": {
    "colab": {
     "base_uri": "https://localhost:8080/"
    },
    "id": "hwThebPgd0Z7",
    "outputId": "d6b6c2b8-2db7-45c3-eec0-780699fd86fb"
   },
   "outputs": [
    {
     "data": {
      "text/plain": [
       "array([9.50256509e+08, 1.55035991e+01, 7.57184960e+00, 4.15125643e+00,\n",
       "       2.67923355e+00, 2.26304824e+00, 1.88876049e+00, 1.58862446e+00])"
      ]
     },
     "execution_count": 68,
     "metadata": {
      "tags": []
     },
     "output_type": "execute_result"
    }
   ],
   "source": [
    "pca.explained_variance_"
   ]
  },
  {
   "cell_type": "code",
   "execution_count": 69,
   "metadata": {
    "colab": {
     "base_uri": "https://localhost:8080/"
    },
    "id": "rtOJFoJnd0Z8",
    "outputId": "b84cb1de-29b9-43e7-8518-6e33fcffc45e"
   },
   "outputs": [
    {
     "data": {
      "text/plain": [
       "5.568352369890985"
      ]
     },
     "execution_count": 69,
     "metadata": {
      "tags": []
     },
     "output_type": "execute_result"
    }
   ],
   "source": [
    "X_train, X_test, y_train, y_test = train_test_split(x_scaled_15_18.drop(['sofifa_id'], axis = 1), y_15_18, test_size=0.2, random_state=42)\n",
    "pca_data = pca.fit_transform(X_train)\n",
    "model = rf.fit(pca_data, y_train)\n",
    "preds = model.predict(pca.transform(X_test))\n",
    "mean_absolute_error(y_test, preds)"
   ]
  },
  {
   "cell_type": "code",
   "execution_count": 70,
   "metadata": {
    "id": "hMYOmuKIntXC"
   },
   "outputs": [],
   "source": [
    "x = [x_scaled_15_16, x_scaled_15_17, x_scaled_15_18, x_scaled_15_19, x_scaled_15_20, x_scaled_15_21]\n",
    "y = [y_15_16, y_15_17, y_15_18, y_15_19, y_15_20, y_15_21]\n"
   ]
  },
  {
   "cell_type": "code",
   "execution_count": 71,
   "metadata": {
    "id": "3E9WRW9moazO"
   },
   "outputs": [],
   "source": [
    "rf = RandomForestRegressor(random_state = 42, max_depth = 5)\n",
    "param_grid_rf = {'n_estimators': [30, 50, 100, 150, 300]}\n",
    "horizon_rf_pca_models, horizon_rf_pca_scores = get_model_results_pca(rf, param_grid_rf, x, y)"
   ]
  },
  {
   "cell_type": "code",
   "execution_count": 72,
   "metadata": {
    "id": "qGaq3iDxpIQp"
   },
   "outputs": [],
   "source": [
    "xgb = XGBRegressor(random_state = 42, objective = 'reg:squarederror')\n",
    "param_grid_xgb = {'n_estimators': [30, 50, 100, 150, 300], 'learning_rate':[0.05, 0.1, 0.2, 0.3]}\n",
    "horizon_xgb_pca_models, horizon_xgb_pca_scores = get_model_results_pca(xgb, param_grid_xgb, x, y)"
   ]
  },
  {
   "cell_type": "markdown",
   "metadata": {},
   "source": [
    "### Random Forest and XGBoost Using the LASSO Selected Variables"
   ]
  },
  {
   "cell_type": "code",
   "execution_count": 73,
   "metadata": {
    "id": "rN1wdJl4i4eX"
   },
   "outputs": [],
   "source": [
    "rf = RandomForestRegressor(random_state = 42, max_depth = 5)\n",
    "param_grid_rf = {'n_estimators': [30, 50, 100, 150, 300]}\n",
    "horizon_rf_lasso_models, horizon_rf_lasso_scores = get_model_results_lasso(rf, param_grid_rf, x, y)"
   ]
  },
  {
   "cell_type": "code",
   "execution_count": 74,
   "metadata": {
    "id": "5Tj4Crw3jETD"
   },
   "outputs": [],
   "source": [
    "xgb = XGBRegressor(random_state = 42, objective = 'reg:squarederror')\n",
    "param_grid_xgb = {'n_estimators': [30, 50, 100, 150, 300], 'learning_rate':[0.05, 0.1, 0.2, 0.3]}\n",
    "horizon_xgb_lasso_models, horizon_xgb_lasso_scores = get_model_results_lasso(xgb, param_grid_xgb, x, y)"
   ]
  },
  {
   "cell_type": "markdown",
   "metadata": {
    "id": "6_z52JbHjUil"
   },
   "source": [
    "## Final Performance Evaluation"
   ]
  },
  {
   "cell_type": "code",
   "execution_count": 75,
   "metadata": {
    "id": "rhNStxa4kwcM"
   },
   "outputs": [],
   "source": [
    "x = [x_scaled_15_16, x_scaled_15_17, x_scaled_15_18, x_scaled_15_19, x_scaled_15_20, x_scaled_15_21]\n",
    "y = [y_15_16, y_15_17, y_15_18, y_15_19, y_15_20, y_15_21]\n",
    "\n",
    "models_dict = {'LASSO':horizon_lasso, \n",
    "               'Ridge': horizon_ridge, \n",
    "               'Random Forest': horizon_rf_models, \n",
    "               'XGBoost': horizon_xgb_models, \n",
    "               'Random Forest (PCA)': horizon_rf_pca_models,\n",
    "               'XGBoost (PCA)':horizon_xgb_pca_models,\n",
    "               'Random Forest (LASSO Feature Selection)':horizon_rf_lasso_models,\n",
    "               'XGBoost (LASSO Feature Selection)': horizon_xgb_lasso_models}"
   ]
  },
  {
   "cell_type": "code",
   "execution_count": 76,
   "metadata": {
    "colab": {
     "base_uri": "https://localhost:8080/"
    },
    "id": "WVkg1zh51doV",
    "outputId": "5ef5c9e5-b3bf-41c2-8b53-c964c0abc352"
   },
   "outputs": [
    {
     "data": {
      "text/plain": [
       "[{'Mean_Absolute_Error': 1.514397629267107,\n",
       "  'R_Squared': -0.11556037418373333,\n",
       "  'Root_Mean_Squared_Error': 2.8734539314651206},\n",
       " {'Mean_Absolute_Error': 1.3072338522167104,\n",
       "  'R_Squared': 0.08891320016659392,\n",
       "  'Root_Mean_Squared_Error': 2.6348407322479717},\n",
       " {'Mean_Absolute_Error': 1.8003963648294175,\n",
       "  'R_Squared': -7.769468578392724,\n",
       "  'Root_Mean_Squared_Error': 3.907639651635801},\n",
       " {'Mean_Absolute_Error': 1.2270219468786157,\n",
       "  'R_Squared': -0.09122454137465168,\n",
       "  'Root_Mean_Squared_Error': 2.76987939707693},\n",
       " {'Mean_Absolute_Error': 1.8003963648294175,\n",
       "  'R_Squared': -7.769468578392724,\n",
       "  'Root_Mean_Squared_Error': 3.907639651635801},\n",
       " {'Mean_Absolute_Error': 1.2270219468786157,\n",
       "  'R_Squared': -0.09122454137465168,\n",
       "  'Root_Mean_Squared_Error': 2.76987939707693},\n",
       " {'Mean_Absolute_Error': 1.844584954941158,\n",
       "  'R_Squared': -9.00980569366694,\n",
       "  'Root_Mean_Squared_Error': 4.014457990635255},\n",
       " {'Mean_Absolute_Error': 1.2270219468786157,\n",
       "  'R_Squared': -0.09122454137465168,\n",
       "  'Root_Mean_Squared_Error': 2.76987939707693}]"
      ]
     },
     "execution_count": 76,
     "metadata": {
      "tags": []
     },
     "output_type": "execute_result"
    }
   ],
   "source": [
    "# different results table for each horizon\n",
    "# each table has models as the cols and then the metrics as the rows\n",
    "\n",
    "models_horizon_1 = [v[0] for k, v in models_dict.items()]\n",
    "metrics_horizon_1 = [get_performance_metrics(i, x[0], y[0]) for i in models_horizon_1]\n",
    "metrics_horizon_1"
   ]
  },
  {
   "cell_type": "code",
   "execution_count": 77,
   "metadata": {
    "colab": {
     "base_uri": "https://localhost:8080/",
     "height": 329
    },
    "id": "wSYvWKPKTb03",
    "outputId": "fb7ec39e-2b70-4062-ebb6-f3d13e8264eb"
   },
   "outputs": [
    {
     "name": "stdout",
     "output_type": "stream",
     "text": [
      "Cross Validated Performance Metrics for Predicting Player Value Growth from 2015-2016\n",
      "\n"
     ]
    },
    {
     "data": {
      "text/html": [
       "<div>\n",
       "<style scoped>\n",
       "    .dataframe tbody tr th:only-of-type {\n",
       "        vertical-align: middle;\n",
       "    }\n",
       "\n",
       "    .dataframe tbody tr th {\n",
       "        vertical-align: top;\n",
       "    }\n",
       "\n",
       "    .dataframe thead th {\n",
       "        text-align: right;\n",
       "    }\n",
       "</style>\n",
       "<table border=\"1\" class=\"dataframe\">\n",
       "  <thead>\n",
       "    <tr style=\"text-align: right;\">\n",
       "      <th></th>\n",
       "      <th>Model</th>\n",
       "      <th>Mean_Absolute_Error</th>\n",
       "      <th>R_Squared</th>\n",
       "      <th>Root_Mean_Squared_Error</th>\n",
       "    </tr>\n",
       "  </thead>\n",
       "  <tbody>\n",
       "    <tr>\n",
       "      <th>0</th>\n",
       "      <td>LASSO</td>\n",
       "      <td>1.51</td>\n",
       "      <td>-0.12</td>\n",
       "      <td>2.87</td>\n",
       "    </tr>\n",
       "    <tr>\n",
       "      <th>1</th>\n",
       "      <td>Ridge</td>\n",
       "      <td>1.31</td>\n",
       "      <td>0.09</td>\n",
       "      <td>2.63</td>\n",
       "    </tr>\n",
       "    <tr>\n",
       "      <th>2</th>\n",
       "      <td>Random Forest</td>\n",
       "      <td>1.80</td>\n",
       "      <td>-7.77</td>\n",
       "      <td>3.91</td>\n",
       "    </tr>\n",
       "    <tr>\n",
       "      <th>3</th>\n",
       "      <td>XGBoost</td>\n",
       "      <td>1.23</td>\n",
       "      <td>-0.09</td>\n",
       "      <td>2.77</td>\n",
       "    </tr>\n",
       "    <tr>\n",
       "      <th>4</th>\n",
       "      <td>Random Forest (PCA)</td>\n",
       "      <td>1.80</td>\n",
       "      <td>-7.77</td>\n",
       "      <td>3.91</td>\n",
       "    </tr>\n",
       "    <tr>\n",
       "      <th>5</th>\n",
       "      <td>XGBoost (PCA)</td>\n",
       "      <td>1.23</td>\n",
       "      <td>-0.09</td>\n",
       "      <td>2.77</td>\n",
       "    </tr>\n",
       "    <tr>\n",
       "      <th>6</th>\n",
       "      <td>Random Forest (LASSO Feature Selection)</td>\n",
       "      <td>1.84</td>\n",
       "      <td>-9.01</td>\n",
       "      <td>4.01</td>\n",
       "    </tr>\n",
       "    <tr>\n",
       "      <th>7</th>\n",
       "      <td>XGBoost (LASSO Feature Selection)</td>\n",
       "      <td>1.23</td>\n",
       "      <td>-0.09</td>\n",
       "      <td>2.77</td>\n",
       "    </tr>\n",
       "  </tbody>\n",
       "</table>\n",
       "</div>"
      ],
      "text/plain": [
       "                                     Model  ...  Root_Mean_Squared_Error\n",
       "0                                    LASSO  ...                     2.87\n",
       "1                                    Ridge  ...                     2.63\n",
       "2                            Random Forest  ...                     3.91\n",
       "3                                  XGBoost  ...                     2.77\n",
       "4                      Random Forest (PCA)  ...                     3.91\n",
       "5                            XGBoost (PCA)  ...                     2.77\n",
       "6  Random Forest (LASSO Feature Selection)  ...                     4.01\n",
       "7        XGBoost (LASSO Feature Selection)  ...                     2.77\n",
       "\n",
       "[8 rows x 4 columns]"
      ]
     },
     "execution_count": 77,
     "metadata": {
      "tags": []
     },
     "output_type": "execute_result"
    }
   ],
   "source": [
    "horizon_1_final = {'Model': models_dict.keys(), 'Mean_Absolute_Error': [], 'R_Squared': [], \"Root_Mean_Squared_Error\": []}\n",
    "for metrics_dict in metrics_horizon_1:\n",
    "    horizon_1_final['Mean_Absolute_Error'].append(round(metrics_dict['Mean_Absolute_Error'], 2))\n",
    "    horizon_1_final['R_Squared'].append(round(metrics_dict['R_Squared'], 2))\n",
    "    horizon_1_final['Root_Mean_Squared_Error'].append(round(metrics_dict['Root_Mean_Squared_Error'], 2))\n",
    "print(\"Cross Validated Performance Metrics for Predicting Player Value Growth from 2015-2016\")\n",
    "print('')\n",
    "pd.DataFrame(horizon_1_final)"
   ]
  },
  {
   "cell_type": "code",
   "execution_count": 78,
   "metadata": {
    "colab": {
     "base_uri": "https://localhost:8080/",
     "height": 329
    },
    "id": "_ISUHizfYYuX",
    "outputId": "ff8b846d-5181-43b9-a099-220f753a248e"
   },
   "outputs": [
    {
     "name": "stdout",
     "output_type": "stream",
     "text": [
      "Cross Validated Performance Metrics for Predicting Player Value Growth from 2015-2017\n",
      "\n"
     ]
    },
    {
     "data": {
      "text/html": [
       "<div>\n",
       "<style scoped>\n",
       "    .dataframe tbody tr th:only-of-type {\n",
       "        vertical-align: middle;\n",
       "    }\n",
       "\n",
       "    .dataframe tbody tr th {\n",
       "        vertical-align: top;\n",
       "    }\n",
       "\n",
       "    .dataframe thead th {\n",
       "        text-align: right;\n",
       "    }\n",
       "</style>\n",
       "<table border=\"1\" class=\"dataframe\">\n",
       "  <thead>\n",
       "    <tr style=\"text-align: right;\">\n",
       "      <th></th>\n",
       "      <th>Model</th>\n",
       "      <th>Mean_Absolute_Error</th>\n",
       "      <th>R_Squared</th>\n",
       "      <th>Root_Mean_Squared_Error</th>\n",
       "    </tr>\n",
       "  </thead>\n",
       "  <tbody>\n",
       "    <tr>\n",
       "      <th>0</th>\n",
       "      <td>LASSO</td>\n",
       "      <td>3.29</td>\n",
       "      <td>-0.51</td>\n",
       "      <td>7.10</td>\n",
       "    </tr>\n",
       "    <tr>\n",
       "      <th>1</th>\n",
       "      <td>Ridge</td>\n",
       "      <td>2.96</td>\n",
       "      <td>-0.12</td>\n",
       "      <td>6.61</td>\n",
       "    </tr>\n",
       "    <tr>\n",
       "      <th>2</th>\n",
       "      <td>Random Forest</td>\n",
       "      <td>2.80</td>\n",
       "      <td>-0.15</td>\n",
       "      <td>6.91</td>\n",
       "    </tr>\n",
       "    <tr>\n",
       "      <th>3</th>\n",
       "      <td>XGBoost</td>\n",
       "      <td>2.52</td>\n",
       "      <td>0.08</td>\n",
       "      <td>6.62</td>\n",
       "    </tr>\n",
       "    <tr>\n",
       "      <th>4</th>\n",
       "      <td>Random Forest (PCA)</td>\n",
       "      <td>2.80</td>\n",
       "      <td>-0.15</td>\n",
       "      <td>6.91</td>\n",
       "    </tr>\n",
       "    <tr>\n",
       "      <th>5</th>\n",
       "      <td>XGBoost (PCA)</td>\n",
       "      <td>2.52</td>\n",
       "      <td>0.08</td>\n",
       "      <td>6.62</td>\n",
       "    </tr>\n",
       "    <tr>\n",
       "      <th>6</th>\n",
       "      <td>Random Forest (LASSO Feature Selection)</td>\n",
       "      <td>2.80</td>\n",
       "      <td>-0.15</td>\n",
       "      <td>6.91</td>\n",
       "    </tr>\n",
       "    <tr>\n",
       "      <th>7</th>\n",
       "      <td>XGBoost (LASSO Feature Selection)</td>\n",
       "      <td>2.52</td>\n",
       "      <td>0.08</td>\n",
       "      <td>6.62</td>\n",
       "    </tr>\n",
       "  </tbody>\n",
       "</table>\n",
       "</div>"
      ],
      "text/plain": [
       "                                     Model  ...  Root_Mean_Squared_Error\n",
       "0                                    LASSO  ...                     7.10\n",
       "1                                    Ridge  ...                     6.61\n",
       "2                            Random Forest  ...                     6.91\n",
       "3                                  XGBoost  ...                     6.62\n",
       "4                      Random Forest (PCA)  ...                     6.91\n",
       "5                            XGBoost (PCA)  ...                     6.62\n",
       "6  Random Forest (LASSO Feature Selection)  ...                     6.91\n",
       "7        XGBoost (LASSO Feature Selection)  ...                     6.62\n",
       "\n",
       "[8 rows x 4 columns]"
      ]
     },
     "execution_count": 78,
     "metadata": {
      "tags": []
     },
     "output_type": "execute_result"
    }
   ],
   "source": [
    "models_horizon_2 = [v[1] for k, v in models_dict.items()]\n",
    "metrics_horizon_2 = [get_performance_metrics(i, x[1], y[1]) for i in models_horizon_2]\n",
    "\n",
    "horizon_2_final = {'Model': models_dict.keys(), 'Mean_Absolute_Error': [], 'R_Squared': [], \"Root_Mean_Squared_Error\": []}\n",
    "for metrics_dict in metrics_horizon_2:\n",
    "    horizon_2_final['Mean_Absolute_Error'].append(round(metrics_dict['Mean_Absolute_Error'], 2))\n",
    "    horizon_2_final['R_Squared'].append(round(metrics_dict['R_Squared'], 2))\n",
    "    horizon_2_final['Root_Mean_Squared_Error'].append(round(metrics_dict['Root_Mean_Squared_Error'], 2))\n",
    "print(\"Cross Validated Performance Metrics for Predicting Player Value Growth from 2015-2017\")\n",
    "print('')\n",
    "pd.DataFrame(horizon_2_final)"
   ]
  },
  {
   "cell_type": "code",
   "execution_count": 79,
   "metadata": {
    "colab": {
     "base_uri": "https://localhost:8080/",
     "height": 329
    },
    "id": "qiFcXnJUYr1R",
    "outputId": "6f2b5480-0177-4d6c-ec7d-da2f0bb51299"
   },
   "outputs": [
    {
     "name": "stdout",
     "output_type": "stream",
     "text": [
      "Cross Validated Performance Metrics for Predicting Player Value Growth from 2015-2018\n",
      "\n"
     ]
    },
    {
     "data": {
      "text/html": [
       "<div>\n",
       "<style scoped>\n",
       "    .dataframe tbody tr th:only-of-type {\n",
       "        vertical-align: middle;\n",
       "    }\n",
       "\n",
       "    .dataframe tbody tr th {\n",
       "        vertical-align: top;\n",
       "    }\n",
       "\n",
       "    .dataframe thead th {\n",
       "        text-align: right;\n",
       "    }\n",
       "</style>\n",
       "<table border=\"1\" class=\"dataframe\">\n",
       "  <thead>\n",
       "    <tr style=\"text-align: right;\">\n",
       "      <th></th>\n",
       "      <th>Model</th>\n",
       "      <th>Mean_Absolute_Error</th>\n",
       "      <th>R_Squared</th>\n",
       "      <th>Root_Mean_Squared_Error</th>\n",
       "    </tr>\n",
       "  </thead>\n",
       "  <tbody>\n",
       "    <tr>\n",
       "      <th>0</th>\n",
       "      <td>LASSO</td>\n",
       "      <td>6.18</td>\n",
       "      <td>-1.00</td>\n",
       "      <td>13.38</td>\n",
       "    </tr>\n",
       "    <tr>\n",
       "      <th>1</th>\n",
       "      <td>Ridge</td>\n",
       "      <td>5.75</td>\n",
       "      <td>-0.28</td>\n",
       "      <td>12.49</td>\n",
       "    </tr>\n",
       "    <tr>\n",
       "      <th>2</th>\n",
       "      <td>Random Forest</td>\n",
       "      <td>5.32</td>\n",
       "      <td>-0.20</td>\n",
       "      <td>12.89</td>\n",
       "    </tr>\n",
       "    <tr>\n",
       "      <th>3</th>\n",
       "      <td>XGBoost</td>\n",
       "      <td>4.82</td>\n",
       "      <td>0.05</td>\n",
       "      <td>12.64</td>\n",
       "    </tr>\n",
       "    <tr>\n",
       "      <th>4</th>\n",
       "      <td>Random Forest (PCA)</td>\n",
       "      <td>5.33</td>\n",
       "      <td>-0.20</td>\n",
       "      <td>12.86</td>\n",
       "    </tr>\n",
       "    <tr>\n",
       "      <th>5</th>\n",
       "      <td>XGBoost (PCA)</td>\n",
       "      <td>4.82</td>\n",
       "      <td>0.05</td>\n",
       "      <td>12.64</td>\n",
       "    </tr>\n",
       "    <tr>\n",
       "      <th>6</th>\n",
       "      <td>Random Forest (LASSO Feature Selection)</td>\n",
       "      <td>5.36</td>\n",
       "      <td>-0.25</td>\n",
       "      <td>13.11</td>\n",
       "    </tr>\n",
       "    <tr>\n",
       "      <th>7</th>\n",
       "      <td>XGBoost (LASSO Feature Selection)</td>\n",
       "      <td>4.82</td>\n",
       "      <td>0.05</td>\n",
       "      <td>12.64</td>\n",
       "    </tr>\n",
       "  </tbody>\n",
       "</table>\n",
       "</div>"
      ],
      "text/plain": [
       "                                     Model  ...  Root_Mean_Squared_Error\n",
       "0                                    LASSO  ...                    13.38\n",
       "1                                    Ridge  ...                    12.49\n",
       "2                            Random Forest  ...                    12.89\n",
       "3                                  XGBoost  ...                    12.64\n",
       "4                      Random Forest (PCA)  ...                    12.86\n",
       "5                            XGBoost (PCA)  ...                    12.64\n",
       "6  Random Forest (LASSO Feature Selection)  ...                    13.11\n",
       "7        XGBoost (LASSO Feature Selection)  ...                    12.64\n",
       "\n",
       "[8 rows x 4 columns]"
      ]
     },
     "execution_count": 79,
     "metadata": {
      "tags": []
     },
     "output_type": "execute_result"
    }
   ],
   "source": [
    "models_horizon_3 = [v[2] for k, v in models_dict.items()]\n",
    "metrics_horizon_3 = [get_performance_metrics(i, x[2], y[2]) for i in models_horizon_3]\n",
    "\n",
    "horizon_3_final = {'Model': models_dict.keys(), 'Mean_Absolute_Error': [], 'R_Squared': [], \"Root_Mean_Squared_Error\": []}\n",
    "for metrics_dict in metrics_horizon_3:\n",
    "    horizon_3_final['Mean_Absolute_Error'].append(round(metrics_dict['Mean_Absolute_Error'], 2))\n",
    "    horizon_3_final['R_Squared'].append(round(metrics_dict['R_Squared'], 2))\n",
    "    horizon_3_final['Root_Mean_Squared_Error'].append(round(metrics_dict['Root_Mean_Squared_Error'], 2))\n",
    "print(\"Cross Validated Performance Metrics for Predicting Player Value Growth from 2015-2018\")\n",
    "print('')\n",
    "pd.DataFrame(horizon_3_final)"
   ]
  },
  {
   "cell_type": "code",
   "execution_count": 80,
   "metadata": {
    "colab": {
     "base_uri": "https://localhost:8080/",
     "height": 329
    },
    "id": "NyWwOXPjY6dU",
    "outputId": "59e3e0b0-aacc-4cb2-bb4e-d45eb2dda9d5"
   },
   "outputs": [
    {
     "name": "stdout",
     "output_type": "stream",
     "text": [
      "Cross Validated Performance Metrics for Predicting Player Value Growth from 2015-2019\n",
      "\n"
     ]
    },
    {
     "data": {
      "text/html": [
       "<div>\n",
       "<style scoped>\n",
       "    .dataframe tbody tr th:only-of-type {\n",
       "        vertical-align: middle;\n",
       "    }\n",
       "\n",
       "    .dataframe tbody tr th {\n",
       "        vertical-align: top;\n",
       "    }\n",
       "\n",
       "    .dataframe thead th {\n",
       "        text-align: right;\n",
       "    }\n",
       "</style>\n",
       "<table border=\"1\" class=\"dataframe\">\n",
       "  <thead>\n",
       "    <tr style=\"text-align: right;\">\n",
       "      <th></th>\n",
       "      <th>Model</th>\n",
       "      <th>Mean_Absolute_Error</th>\n",
       "      <th>R_Squared</th>\n",
       "      <th>Root_Mean_Squared_Error</th>\n",
       "    </tr>\n",
       "  </thead>\n",
       "  <tbody>\n",
       "    <tr>\n",
       "      <th>0</th>\n",
       "      <td>LASSO</td>\n",
       "      <td>8.27</td>\n",
       "      <td>-1.31</td>\n",
       "      <td>17.66</td>\n",
       "    </tr>\n",
       "    <tr>\n",
       "      <th>1</th>\n",
       "      <td>Ridge</td>\n",
       "      <td>7.78</td>\n",
       "      <td>-0.55</td>\n",
       "      <td>16.48</td>\n",
       "    </tr>\n",
       "    <tr>\n",
       "      <th>2</th>\n",
       "      <td>Random Forest</td>\n",
       "      <td>6.97</td>\n",
       "      <td>-0.37</td>\n",
       "      <td>16.79</td>\n",
       "    </tr>\n",
       "    <tr>\n",
       "      <th>3</th>\n",
       "      <td>XGBoost</td>\n",
       "      <td>6.16</td>\n",
       "      <td>0.04</td>\n",
       "      <td>15.90</td>\n",
       "    </tr>\n",
       "    <tr>\n",
       "      <th>4</th>\n",
       "      <td>Random Forest (PCA)</td>\n",
       "      <td>6.92</td>\n",
       "      <td>-0.41</td>\n",
       "      <td>16.71</td>\n",
       "    </tr>\n",
       "    <tr>\n",
       "      <th>5</th>\n",
       "      <td>XGBoost (PCA)</td>\n",
       "      <td>6.16</td>\n",
       "      <td>0.04</td>\n",
       "      <td>15.90</td>\n",
       "    </tr>\n",
       "    <tr>\n",
       "      <th>6</th>\n",
       "      <td>Random Forest (LASSO Feature Selection)</td>\n",
       "      <td>6.92</td>\n",
       "      <td>-0.41</td>\n",
       "      <td>16.71</td>\n",
       "    </tr>\n",
       "    <tr>\n",
       "      <th>7</th>\n",
       "      <td>XGBoost (LASSO Feature Selection)</td>\n",
       "      <td>6.16</td>\n",
       "      <td>0.04</td>\n",
       "      <td>15.90</td>\n",
       "    </tr>\n",
       "  </tbody>\n",
       "</table>\n",
       "</div>"
      ],
      "text/plain": [
       "                                     Model  ...  Root_Mean_Squared_Error\n",
       "0                                    LASSO  ...                    17.66\n",
       "1                                    Ridge  ...                    16.48\n",
       "2                            Random Forest  ...                    16.79\n",
       "3                                  XGBoost  ...                    15.90\n",
       "4                      Random Forest (PCA)  ...                    16.71\n",
       "5                            XGBoost (PCA)  ...                    15.90\n",
       "6  Random Forest (LASSO Feature Selection)  ...                    16.71\n",
       "7        XGBoost (LASSO Feature Selection)  ...                    15.90\n",
       "\n",
       "[8 rows x 4 columns]"
      ]
     },
     "execution_count": 80,
     "metadata": {
      "tags": []
     },
     "output_type": "execute_result"
    }
   ],
   "source": [
    "models_horizon_4 = [v[3] for k, v in models_dict.items()]\n",
    "metrics_horizon_4 = [get_performance_metrics(i, x[3], y[3]) for i in models_horizon_4]\n",
    "\n",
    "horizon_4_final = {'Model': models_dict.keys(), 'Mean_Absolute_Error': [], 'R_Squared': [], \"Root_Mean_Squared_Error\": []}\n",
    "for metrics_dict in metrics_horizon_4:\n",
    "    horizon_4_final['Mean_Absolute_Error'].append(round(metrics_dict['Mean_Absolute_Error'], 2))\n",
    "    horizon_4_final['R_Squared'].append(round(metrics_dict['R_Squared'], 2))\n",
    "    horizon_4_final['Root_Mean_Squared_Error'].append(round(metrics_dict['Root_Mean_Squared_Error'], 2))\n",
    "print(\"Cross Validated Performance Metrics for Predicting Player Value Growth from 2015-2019\")\n",
    "print('')\n",
    "pd.DataFrame(horizon_4_final)"
   ]
  },
  {
   "cell_type": "code",
   "execution_count": 81,
   "metadata": {
    "colab": {
     "base_uri": "https://localhost:8080/",
     "height": 329
    },
    "id": "ffaj7JY9ZEgZ",
    "outputId": "c72cc0b2-c26d-4a03-ca5c-af4a5e860066"
   },
   "outputs": [
    {
     "name": "stdout",
     "output_type": "stream",
     "text": [
      "Cross Validated Performance Metrics for Predicting Player Value Growth from 2015-2020\n",
      "\n"
     ]
    },
    {
     "data": {
      "text/html": [
       "<div>\n",
       "<style scoped>\n",
       "    .dataframe tbody tr th:only-of-type {\n",
       "        vertical-align: middle;\n",
       "    }\n",
       "\n",
       "    .dataframe tbody tr th {\n",
       "        vertical-align: top;\n",
       "    }\n",
       "\n",
       "    .dataframe thead th {\n",
       "        text-align: right;\n",
       "    }\n",
       "</style>\n",
       "<table border=\"1\" class=\"dataframe\">\n",
       "  <thead>\n",
       "    <tr style=\"text-align: right;\">\n",
       "      <th></th>\n",
       "      <th>Model</th>\n",
       "      <th>Mean_Absolute_Error</th>\n",
       "      <th>R_Squared</th>\n",
       "      <th>Root_Mean_Squared_Error</th>\n",
       "    </tr>\n",
       "  </thead>\n",
       "  <tbody>\n",
       "    <tr>\n",
       "      <th>0</th>\n",
       "      <td>LASSO</td>\n",
       "      <td>10.57</td>\n",
       "      <td>-1.62</td>\n",
       "      <td>22.29</td>\n",
       "    </tr>\n",
       "    <tr>\n",
       "      <th>1</th>\n",
       "      <td>Ridge</td>\n",
       "      <td>9.93</td>\n",
       "      <td>-0.92</td>\n",
       "      <td>20.92</td>\n",
       "    </tr>\n",
       "    <tr>\n",
       "      <th>2</th>\n",
       "      <td>Random Forest</td>\n",
       "      <td>8.79</td>\n",
       "      <td>-0.25</td>\n",
       "      <td>20.52</td>\n",
       "    </tr>\n",
       "    <tr>\n",
       "      <th>3</th>\n",
       "      <td>XGBoost</td>\n",
       "      <td>7.74</td>\n",
       "      <td>0.04</td>\n",
       "      <td>19.90</td>\n",
       "    </tr>\n",
       "    <tr>\n",
       "      <th>4</th>\n",
       "      <td>Random Forest (PCA)</td>\n",
       "      <td>8.79</td>\n",
       "      <td>-0.25</td>\n",
       "      <td>20.52</td>\n",
       "    </tr>\n",
       "    <tr>\n",
       "      <th>5</th>\n",
       "      <td>XGBoost (PCA)</td>\n",
       "      <td>7.74</td>\n",
       "      <td>0.04</td>\n",
       "      <td>19.90</td>\n",
       "    </tr>\n",
       "    <tr>\n",
       "      <th>6</th>\n",
       "      <td>Random Forest (LASSO Feature Selection)</td>\n",
       "      <td>8.79</td>\n",
       "      <td>-0.25</td>\n",
       "      <td>20.52</td>\n",
       "    </tr>\n",
       "    <tr>\n",
       "      <th>7</th>\n",
       "      <td>XGBoost (LASSO Feature Selection)</td>\n",
       "      <td>7.74</td>\n",
       "      <td>0.04</td>\n",
       "      <td>19.90</td>\n",
       "    </tr>\n",
       "  </tbody>\n",
       "</table>\n",
       "</div>"
      ],
      "text/plain": [
       "                                     Model  ...  Root_Mean_Squared_Error\n",
       "0                                    LASSO  ...                    22.29\n",
       "1                                    Ridge  ...                    20.92\n",
       "2                            Random Forest  ...                    20.52\n",
       "3                                  XGBoost  ...                    19.90\n",
       "4                      Random Forest (PCA)  ...                    20.52\n",
       "5                            XGBoost (PCA)  ...                    19.90\n",
       "6  Random Forest (LASSO Feature Selection)  ...                    20.52\n",
       "7        XGBoost (LASSO Feature Selection)  ...                    19.90\n",
       "\n",
       "[8 rows x 4 columns]"
      ]
     },
     "execution_count": 81,
     "metadata": {
      "tags": []
     },
     "output_type": "execute_result"
    }
   ],
   "source": [
    "models_horizon_5 = [v[4] for k, v in models_dict.items()]\n",
    "metrics_horizon_5 = [get_performance_metrics(i, x[4], y[4]) for i in models_horizon_5]\n",
    "\n",
    "horizon_5_final = {'Model': models_dict.keys(), 'Mean_Absolute_Error': [], 'R_Squared': [], \"Root_Mean_Squared_Error\": []}\n",
    "for metrics_dict in metrics_horizon_5:\n",
    "    horizon_5_final['Mean_Absolute_Error'].append(round(metrics_dict['Mean_Absolute_Error'], 2))\n",
    "    horizon_5_final['R_Squared'].append(round(metrics_dict['R_Squared'], 2))\n",
    "    horizon_5_final['Root_Mean_Squared_Error'].append(round(metrics_dict['Root_Mean_Squared_Error'], 2))\n",
    "print(\"Cross Validated Performance Metrics for Predicting Player Value Growth from 2015-2020\")\n",
    "print('')\n",
    "pd.DataFrame(horizon_5_final)"
   ]
  },
  {
   "cell_type": "code",
   "execution_count": 82,
   "metadata": {
    "colab": {
     "base_uri": "https://localhost:8080/",
     "height": 329
    },
    "id": "NEbGAyf9ZNea",
    "outputId": "47f98974-754b-488c-c8f4-43ab15687d35"
   },
   "outputs": [
    {
     "name": "stdout",
     "output_type": "stream",
     "text": [
      "Cross Validated Performance Metrics for Predicting Player Value Growth from 2015-2021\n",
      "\n"
     ]
    },
    {
     "data": {
      "text/html": [
       "<div>\n",
       "<style scoped>\n",
       "    .dataframe tbody tr th:only-of-type {\n",
       "        vertical-align: middle;\n",
       "    }\n",
       "\n",
       "    .dataframe tbody tr th {\n",
       "        vertical-align: top;\n",
       "    }\n",
       "\n",
       "    .dataframe thead th {\n",
       "        text-align: right;\n",
       "    }\n",
       "</style>\n",
       "<table border=\"1\" class=\"dataframe\">\n",
       "  <thead>\n",
       "    <tr style=\"text-align: right;\">\n",
       "      <th></th>\n",
       "      <th>Model</th>\n",
       "      <th>Mean_Absolute_Error</th>\n",
       "      <th>R_Squared</th>\n",
       "      <th>Root_Mean_Squared_Error</th>\n",
       "    </tr>\n",
       "  </thead>\n",
       "  <tbody>\n",
       "    <tr>\n",
       "      <th>0</th>\n",
       "      <td>LASSO</td>\n",
       "      <td>11.67</td>\n",
       "      <td>-2.66</td>\n",
       "      <td>23.35</td>\n",
       "    </tr>\n",
       "    <tr>\n",
       "      <th>1</th>\n",
       "      <td>Ridge</td>\n",
       "      <td>11.21</td>\n",
       "      <td>-1.59</td>\n",
       "      <td>21.92</td>\n",
       "    </tr>\n",
       "    <tr>\n",
       "      <th>2</th>\n",
       "      <td>Random Forest</td>\n",
       "      <td>9.79</td>\n",
       "      <td>-0.22</td>\n",
       "      <td>20.44</td>\n",
       "    </tr>\n",
       "    <tr>\n",
       "      <th>3</th>\n",
       "      <td>XGBoost</td>\n",
       "      <td>8.50</td>\n",
       "      <td>0.04</td>\n",
       "      <td>20.02</td>\n",
       "    </tr>\n",
       "    <tr>\n",
       "      <th>4</th>\n",
       "      <td>Random Forest (PCA)</td>\n",
       "      <td>9.80</td>\n",
       "      <td>-0.27</td>\n",
       "      <td>20.67</td>\n",
       "    </tr>\n",
       "    <tr>\n",
       "      <th>5</th>\n",
       "      <td>XGBoost (PCA)</td>\n",
       "      <td>8.50</td>\n",
       "      <td>0.04</td>\n",
       "      <td>20.02</td>\n",
       "    </tr>\n",
       "    <tr>\n",
       "      <th>6</th>\n",
       "      <td>Random Forest (LASSO Feature Selection)</td>\n",
       "      <td>9.79</td>\n",
       "      <td>-0.22</td>\n",
       "      <td>20.44</td>\n",
       "    </tr>\n",
       "    <tr>\n",
       "      <th>7</th>\n",
       "      <td>XGBoost (LASSO Feature Selection)</td>\n",
       "      <td>8.50</td>\n",
       "      <td>0.04</td>\n",
       "      <td>20.02</td>\n",
       "    </tr>\n",
       "  </tbody>\n",
       "</table>\n",
       "</div>"
      ],
      "text/plain": [
       "                                     Model  ...  Root_Mean_Squared_Error\n",
       "0                                    LASSO  ...                    23.35\n",
       "1                                    Ridge  ...                    21.92\n",
       "2                            Random Forest  ...                    20.44\n",
       "3                                  XGBoost  ...                    20.02\n",
       "4                      Random Forest (PCA)  ...                    20.67\n",
       "5                            XGBoost (PCA)  ...                    20.02\n",
       "6  Random Forest (LASSO Feature Selection)  ...                    20.44\n",
       "7        XGBoost (LASSO Feature Selection)  ...                    20.02\n",
       "\n",
       "[8 rows x 4 columns]"
      ]
     },
     "execution_count": 82,
     "metadata": {
      "tags": []
     },
     "output_type": "execute_result"
    }
   ],
   "source": [
    "models_horizon_6 = [v[5] for k, v in models_dict.items()]\n",
    "metrics_horizon_6 = [get_performance_metrics(i, x[5], y[5]) for i in models_horizon_6]\n",
    "\n",
    "horizon_6_final = {'Model': models_dict.keys(), 'Mean_Absolute_Error': [], 'R_Squared': [], \"Root_Mean_Squared_Error\": []}\n",
    "for metrics_dict in metrics_horizon_6:\n",
    "    horizon_6_final['Mean_Absolute_Error'].append(round(metrics_dict['Mean_Absolute_Error'], 2))\n",
    "    horizon_6_final['R_Squared'].append(round(metrics_dict['R_Squared'], 2))\n",
    "    horizon_6_final['Root_Mean_Squared_Error'].append(round(metrics_dict['Root_Mean_Squared_Error'], 2))\n",
    "print(\"Cross Validated Performance Metrics for Predicting Player Value Growth from 2015-2021\")\n",
    "print('')\n",
    "pd.DataFrame(horizon_6_final)"
   ]
  },
  {
   "cell_type": "markdown",
   "metadata": {
    "id": "IlvMIWC6jXt8"
   },
   "source": [
    "## Final Model Fitting on Entire Dataset for Each Horizon (Best Model)"
   ]
  },
  {
   "cell_type": "code",
   "execution_count": 83,
   "metadata": {
    "id": "PhzrVV6Pjd0v"
   },
   "outputs": [],
   "source": [
    "x = [x_scaled_15_16, x_scaled_15_17, x_scaled_15_18, x_scaled_15_19, x_scaled_15_20, x_scaled_15_21]\n",
    "y = [y_15_16, y_15_17, y_15_18, y_15_19, y_15_20, y_15_21]\n",
    "\n",
    "# horizon 1: xgboost base - best MAE and still good RMSE\n",
    "horizon_1_model = horizon_xgb_models[0].fit(x[0].drop(['sofifa_id'], axis = 1), y[0])\n",
    "\n",
    "# horizon 2: xgboost base - best MAE and RMSE and R2\n",
    "horizon_2_model = horizon_xgb_models[1].fit(x[1].drop(['sofifa_id'], axis = 1), y[1])\n",
    "# horizon 3: xgboost base - best MAE and R2, RMSE close\n",
    "horizon_3_model = horizon_xgb_models[2].fit(x[2].drop(['sofifa_id'], axis = 1), y[2])\n",
    "# horizon 4: xgboost base - best MAE and RMSE and R2\n",
    "horizon_4_model = horizon_xgb_models[3].fit(x[3].drop(['sofifa_id'], axis = 1), y[3])\n",
    "# horizon 5: xgboost base - best MAE and RMSE and R2\n",
    "horizon_5_model = horizon_xgb_models[4].fit(x[4].drop(['sofifa_id'], axis = 1), y[4])\n",
    "# horizon 6: xgboost base - best MAE and RMSE and R2\n",
    "horizon_6_model = horizon_xgb_models[5].fit(x[5].drop(['sofifa_id'], axis = 1), y[5])\n",
    "# observations: the error increases as the horizon gets farther out (which makes sense, more uncertainty)"
   ]
  },
  {
   "cell_type": "markdown",
   "metadata": {
    "id": "TKLN8hIujeNa"
   },
   "source": [
    "## Final Prediction for Each Horizon (Using Best Model)"
   ]
  },
  {
   "cell_type": "code",
   "execution_count": 84,
   "metadata": {
    "colab": {
     "base_uri": "https://localhost:8080/"
    },
    "id": "PsGB9m6WwCXD",
    "outputId": "05e07ba9-fe79-4b76-8e5f-4eae28c76bbc"
   },
   "outputs": [
    {
     "data": {
      "text/plain": [
       "[XGBRegressor(base_score=0.5, booster='gbtree', colsample_bylevel=1,\n",
       "              colsample_bynode=1, colsample_bytree=1, gamma=0,\n",
       "              importance_type='gain', learning_rate=0.05, max_delta_step=0,\n",
       "              max_depth=3, min_child_weight=1, missing=None, n_estimators=30,\n",
       "              n_jobs=1, nthread=None, objective='reg:squarederror',\n",
       "              random_state=42, reg_alpha=0, reg_lambda=1, scale_pos_weight=1,\n",
       "              seed=None, silent=None, subsample=1, verbosity=1),\n",
       " XGBRegressor(base_score=0.5, booster='gbtree', colsample_bylevel=1,\n",
       "              colsample_bynode=1, colsample_bytree=1, gamma=0,\n",
       "              importance_type='gain', learning_rate=0.05, max_delta_step=0,\n",
       "              max_depth=3, min_child_weight=1, missing=None, n_estimators=30,\n",
       "              n_jobs=1, nthread=None, objective='reg:squarederror',\n",
       "              random_state=42, reg_alpha=0, reg_lambda=1, scale_pos_weight=1,\n",
       "              seed=None, silent=None, subsample=1, verbosity=1),\n",
       " XGBRegressor(base_score=0.5, booster='gbtree', colsample_bylevel=1,\n",
       "              colsample_bynode=1, colsample_bytree=1, gamma=0,\n",
       "              importance_type='gain', learning_rate=0.05, max_delta_step=0,\n",
       "              max_depth=3, min_child_weight=1, missing=None, n_estimators=30,\n",
       "              n_jobs=1, nthread=None, objective='reg:squarederror',\n",
       "              random_state=42, reg_alpha=0, reg_lambda=1, scale_pos_weight=1,\n",
       "              seed=None, silent=None, subsample=1, verbosity=1),\n",
       " XGBRegressor(base_score=0.5, booster='gbtree', colsample_bylevel=1,\n",
       "              colsample_bynode=1, colsample_bytree=1, gamma=0,\n",
       "              importance_type='gain', learning_rate=0.05, max_delta_step=0,\n",
       "              max_depth=3, min_child_weight=1, missing=None, n_estimators=30,\n",
       "              n_jobs=1, nthread=None, objective='reg:squarederror',\n",
       "              random_state=42, reg_alpha=0, reg_lambda=1, scale_pos_weight=1,\n",
       "              seed=None, silent=None, subsample=1, verbosity=1),\n",
       " XGBRegressor(base_score=0.5, booster='gbtree', colsample_bylevel=1,\n",
       "              colsample_bynode=1, colsample_bytree=1, gamma=0,\n",
       "              importance_type='gain', learning_rate=0.05, max_delta_step=0,\n",
       "              max_depth=3, min_child_weight=1, missing=None, n_estimators=30,\n",
       "              n_jobs=1, nthread=None, objective='reg:squarederror',\n",
       "              random_state=42, reg_alpha=0, reg_lambda=1, scale_pos_weight=1,\n",
       "              seed=None, silent=None, subsample=1, verbosity=1),\n",
       " XGBRegressor(base_score=0.5, booster='gbtree', colsample_bylevel=1,\n",
       "              colsample_bynode=1, colsample_bytree=1, gamma=0,\n",
       "              importance_type='gain', learning_rate=0.05, max_delta_step=0,\n",
       "              max_depth=3, min_child_weight=1, missing=None, n_estimators=30,\n",
       "              n_jobs=1, nthread=None, objective='reg:squarederror',\n",
       "              random_state=42, reg_alpha=0, reg_lambda=1, scale_pos_weight=1,\n",
       "              seed=None, silent=None, subsample=1, verbosity=1)]"
      ]
     },
     "execution_count": 84,
     "metadata": {
      "tags": []
     },
     "output_type": "execute_result"
    }
   ],
   "source": [
    "horizon_xgb_models"
   ]
  },
  {
   "cell_type": "code",
   "execution_count": 87,
   "metadata": {
    "colab": {
     "base_uri": "https://localhost:8080/"
    },
    "id": "IsxgyZxfjjum",
    "outputId": "67b24e41-845f-441b-f831-9db2d9af8f06"
   },
   "outputs": [
    {
     "name": "stderr",
     "output_type": "stream",
     "text": [
      "/usr/local/lib/python3.7/dist-packages/sklearn/utils/extmath.py:765: RuntimeWarning: invalid value encountered in true_divide\n",
      "  updated_mean = (last_sum + new_sum) / updated_sample_count\n",
      "/usr/local/lib/python3.7/dist-packages/sklearn/utils/extmath.py:706: RuntimeWarning: Degrees of freedom <= 0 for slice.\n",
      "  result = op(x, *args, **kwargs)\n"
     ]
    }
   ],
   "source": [
    "# 2021 data_prep\n",
    "x_clean_2021, cols = data_cleaning_test(fifa_21, False)\n",
    "player_lookup_map_2021 = {game_id: name for (game_id, name) in zip(fifa_21.sofifa_id, fifa_21.long_name)}"
   ]
  },
  {
   "cell_type": "code",
   "execution_count": 88,
   "metadata": {
    "colab": {
     "base_uri": "https://localhost:8080/"
    },
    "id": "D_ZVmbSkqYv8",
    "outputId": "51504e9d-bacd-4418-f2f9-3eeaeb331d88"
   },
   "outputs": [
    {
     "name": "stdout",
     "output_type": "stream",
     "text": [
      "predicted top 10 highest growth players 2022\n",
      "\n"
     ]
    },
    {
     "data": {
      "text/plain": [
       "{'Dannie Bulman',\n",
       " 'Hussein Omar Abdul Ghani Sulaimani',\n",
       " 'Jay Barnett',\n",
       " 'Juan Francisco Martínez Modesto',\n",
       " 'Júlio César Cáceres López',\n",
       " 'Nikolaos Baxevanos',\n",
       " 'Paulo César Da Silva Barrios',\n",
       " 'Vitorino Hilton da Silva',\n",
       " '远藤 保仁',\n",
       " '이동국 李东国'}"
      ]
     },
     "execution_count": 88,
     "metadata": {
      "tags": []
     },
     "output_type": "execute_result"
    }
   ],
   "source": [
    "# Picks for 2022 Potential\n",
    "value_pred_2022 = horizon_1_model.predict(x_clean_2021.drop(['sofifa_id'], axis = 1))\n",
    "\n",
    "# top potential players in test set predicted\n",
    "top_10_preds = np.argsort(value_pred_2022)[::-1][:10]\n",
    "\n",
    "top_10_ids = x_clean_2021.iloc[top_10_preds, :]['sofifa_id'].values\n",
    "print('predicted top 10 highest growth players 2022')\n",
    "print('')\n",
    "pred_best_2022 = set([player_lookup_map_2021[i] for i in top_10_ids])\n",
    "pred_best_2022"
   ]
  },
  {
   "cell_type": "code",
   "execution_count": 89,
   "metadata": {
    "colab": {
     "base_uri": "https://localhost:8080/"
    },
    "id": "1tIX_NWf2Y3J",
    "outputId": "3afa2358-6757-4e2d-e768-a2e4e5e1f3ef"
   },
   "outputs": [
    {
     "name": "stdout",
     "output_type": "stream",
     "text": [
      "predicted top 10 highest growth players 2023\n",
      "\n"
     ]
    },
    {
     "data": {
      "text/plain": [
       "{'Díver Jesús Torres Ferrer',\n",
       " 'Gonzalo Gabriel Sánchez Franco',\n",
       " 'Kevin Raphael Diaz',\n",
       " 'Mark Marleku',\n",
       " 'Shpetim Sulejmani',\n",
       " 'Wassim Aouachria',\n",
       " 'Yiming Yang',\n",
       " 'Ziming Liu',\n",
       " '冯伯元',\n",
       " '张元'}"
      ]
     },
     "execution_count": 89,
     "metadata": {
      "tags": []
     },
     "output_type": "execute_result"
    }
   ],
   "source": [
    "# Picks for 2023 Potential\n",
    "value_pred_2023 = horizon_2_model.predict(x_clean_2021.drop(['sofifa_id'], axis = 1))\n",
    "\n",
    "# top potential players in test set predicted\n",
    "top_10_preds = np.argsort(value_pred_2023)[::-1][:10]\n",
    "\n",
    "top_10_ids = x_clean_2021.iloc[top_10_preds, :]['sofifa_id'].values\n",
    "print('predicted top 10 highest growth players 2023')\n",
    "print('')\n",
    "pred_best_2023 = set([player_lookup_map_2021[i] for i in top_10_ids])\n",
    "pred_best_2023"
   ]
  },
  {
   "cell_type": "code",
   "execution_count": 90,
   "metadata": {
    "colab": {
     "base_uri": "https://localhost:8080/"
    },
    "id": "6EFzQNeKxzD5",
    "outputId": "be833399-1912-48cc-edcb-ebbdd2f7516b"
   },
   "outputs": [
    {
     "name": "stdout",
     "output_type": "stream",
     "text": [
      "predicted top 10 highest growth players 2024\n",
      "\n"
     ]
    },
    {
     "data": {
      "text/plain": [
       "{'Díver Jesús Torres Ferrer',\n",
       " 'Ibrahim Bakare',\n",
       " 'Ionuţ Radu Mitran',\n",
       " 'Jarrad Branthwaite',\n",
       " 'Jean Emile Junior Onana Onana',\n",
       " 'Joe Woodiwiss',\n",
       " 'Kyle Hayde',\n",
       " 'Mohamed Traore',\n",
       " 'Uniss Kargbo',\n",
       " 'Yu Zhang'}"
      ]
     },
     "execution_count": 90,
     "metadata": {
      "tags": []
     },
     "output_type": "execute_result"
    }
   ],
   "source": [
    "# Picks for 2024 Potential\n",
    "value_pred_2024 = horizon_3_model.predict(x_clean_2021.drop(['sofifa_id'], axis = 1))\n",
    "\n",
    "# top potential players in test set predicted\n",
    "top_10_preds = np.argsort(value_pred_2024)[::-1][:10]\n",
    "\n",
    "top_10_ids = x_clean_2021.iloc[top_10_preds, :]['sofifa_id'].values\n",
    "print('predicted top 10 highest growth players 2024')\n",
    "print('')\n",
    "pred_best_2024 = set([player_lookup_map_2021[i] for i in top_10_ids])\n",
    "pred_best_2024"
   ]
  },
  {
   "cell_type": "code",
   "execution_count": 91,
   "metadata": {
    "colab": {
     "base_uri": "https://localhost:8080/"
    },
    "id": "fBu0c-7t26OQ",
    "outputId": "6497bf53-758c-4378-9d1c-aa0641bf1c10"
   },
   "outputs": [
    {
     "name": "stdout",
     "output_type": "stream",
     "text": [
      "predicted top 10 highest growth players 2025\n",
      "\n"
     ]
    },
    {
     "data": {
      "text/plain": [
       "{'Alfie Bates',\n",
       " 'Christopher Merrie',\n",
       " 'Díver Jesús Torres Ferrer',\n",
       " 'Harvey Saunders',\n",
       " 'Isaac Hutchinson',\n",
       " 'James Akintunde',\n",
       " 'Jay Barnett',\n",
       " 'Manuel Ugarte Ribeiro',\n",
       " 'Mohamed Traore',\n",
       " '高大伦'}"
      ]
     },
     "execution_count": 91,
     "metadata": {
      "tags": []
     },
     "output_type": "execute_result"
    }
   ],
   "source": [
    "# Picks for 2025 Potential\n",
    "value_pred_2025 = horizon_4_model.predict(x_clean_2021.drop(['sofifa_id'], axis = 1))\n",
    "\n",
    "# top potential players in test set predicted\n",
    "top_10_preds = np.argsort(value_pred_2025)[::-1][:10]\n",
    "\n",
    "top_10_ids = x_clean_2021.iloc[top_10_preds, :]['sofifa_id'].values\n",
    "print('predicted top 10 highest growth players 2025')\n",
    "print('')\n",
    "pred_best_2025 = set([player_lookup_map_2021[i] for i in top_10_ids])\n",
    "pred_best_2025"
   ]
  },
  {
   "cell_type": "code",
   "execution_count": 92,
   "metadata": {
    "colab": {
     "base_uri": "https://localhost:8080/"
    },
    "id": "YsAR3YxI3CXi",
    "outputId": "c4559d5f-170e-4608-90dc-8badb4f893aa"
   },
   "outputs": [
    {
     "name": "stdout",
     "output_type": "stream",
     "text": [
      "predicted top 10 highest growth players 2026\n",
      "\n"
     ]
    },
    {
     "data": {
      "text/plain": [
       "{'Adelin Valentin Voinescu',\n",
       " 'Christian Marcelo Silva de León',\n",
       " 'Diego Ferney Abadía García',\n",
       " 'Ged Garner',\n",
       " 'Harvey Saunders',\n",
       " 'Jamie Browne',\n",
       " 'Jiaxing Deng',\n",
       " 'Luis Robles',\n",
       " 'Memet Abdulla Ezmat',\n",
       " 'Nicolás Daniel Ruiz Tabárez'}"
      ]
     },
     "execution_count": 92,
     "metadata": {
      "tags": []
     },
     "output_type": "execute_result"
    }
   ],
   "source": [
    "# Picks for 2026 Potential\n",
    "value_pred_2026 = horizon_5_model.predict(x_clean_2021.drop(['sofifa_id'], axis = 1))\n",
    "\n",
    "# top potential players in test set predicted\n",
    "top_10_preds = np.argsort(value_pred_2026)[::-1][:10]\n",
    "\n",
    "top_10_ids = x_clean_2021.iloc[top_10_preds, :]['sofifa_id'].values\n",
    "print('predicted top 10 highest growth players 2026')\n",
    "print('')\n",
    "pred_best_2026 = set([player_lookup_map_2021[i] for i in top_10_ids])\n",
    "pred_best_2026"
   ]
  },
  {
   "cell_type": "code",
   "execution_count": 93,
   "metadata": {
    "colab": {
     "base_uri": "https://localhost:8080/"
    },
    "id": "1iPjAv8V3M_u",
    "outputId": "dc5ee7eb-dbec-4001-9781-cec678d56335"
   },
   "outputs": [
    {
     "name": "stdout",
     "output_type": "stream",
     "text": [
      "predicted top 10 highest growth players 2027\n",
      "\n"
     ]
    },
    {
     "data": {
      "text/plain": [
       "{'Adrián Alejandro Mejía Carrasco',\n",
       " 'Bruno Scorza Perdomo',\n",
       " 'Edgaras Dubickas',\n",
       " 'Harvey Saunders',\n",
       " 'Jamie Browne',\n",
       " 'Luis Robles',\n",
       " 'Michael Tait',\n",
       " 'Ricardo Dinanga',\n",
       " 'Saúl Alejandro Guarirapa Briceño',\n",
       " '懂洪麟'}"
      ]
     },
     "execution_count": 93,
     "metadata": {
      "tags": []
     },
     "output_type": "execute_result"
    }
   ],
   "source": [
    "# Picks for 2027 Potential\n",
    "value_pred_2027 = horizon_6_model.predict(x_clean_2021.drop(['sofifa_id'], axis = 1))\n",
    "\n",
    "# top potential players in test set predicted\n",
    "top_10_preds = np.argsort(value_pred_2027)[::-1][:10]\n",
    "\n",
    "top_10_ids = x_clean_2021.iloc[top_10_preds, :]['sofifa_id'].values\n",
    "print('predicted top 10 highest growth players 2027')\n",
    "print('')\n",
    "pred_best_2027 = set([player_lookup_map_2021[i] for i in top_10_ids])\n",
    "pred_best_2027"
   ]
  }
 ],
 "metadata": {
  "colab": {
   "collapsed_sections": [
    "6_z52JbHjUil"
   ],
   "name": "Modeling_and_Results.ipynb",
   "provenance": [],
   "toc_visible": true
  },
  "kernelspec": {
   "display_name": "Python 3",
   "language": "python",
   "name": "python3"
  },
  "language_info": {
   "codemirror_mode": {
    "name": "ipython",
    "version": 3
   },
   "file_extension": ".py",
   "mimetype": "text/x-python",
   "name": "python",
   "nbconvert_exporter": "python",
   "pygments_lexer": "ipython3",
   "version": "3.7.6"
  }
 },
 "nbformat": 4,
 "nbformat_minor": 1
}
